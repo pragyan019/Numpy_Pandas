{
 "cells": [
  {
   "cell_type": "code",
   "execution_count": 76,
   "metadata": {},
   "outputs": [],
   "source": [
    "import numpy as np\n",
    "import pandas as pd\n",
    "import matplotlib.pyplot as plt\n",
    "n_tactic = 10\n",
    "n_weeks = 104\n",
    "col_names = ['TV1','RADIO_FM','TV2','TV3','RADIO_AM','TV4','ONLINE','YT1',\n",
    "             'YT1','FB']\n",
    "np.random.seed(1)\n",
    "causals = np.random.normal(loc=200, scale = 800, size=(n_weeks,n_tactic))\n",
    "causals = np.where(causals>0, causals, 0)\n",
    "MarketLevelData = pd.DataFrame(causals, columns=col_names)\n",
    "rr = pd.Series(np.random.uniform(.1,.6,size = n_tactic),\n",
    "               index = col_names,\n",
    "               name = 'rr')"
   ]
  },
  {
   "cell_type": "code",
   "execution_count": 77,
   "metadata": {},
   "outputs": [
    {
     "data": {
      "text/plain": [
       "(104, 10)"
      ]
     },
     "execution_count": 77,
     "metadata": {},
     "output_type": "execute_result"
    }
   ],
   "source": [
    "len(MarketLevelData),len(rr)"
   ]
  },
  {
   "cell_type": "code",
   "execution_count": 78,
   "metadata": {},
   "outputs": [
    {
     "data": {
      "text/plain": [
       "TV1         0.368504\n",
       "RADIO_FM    0.282992\n",
       "TV2         0.402153\n",
       "TV3         0.579401\n",
       "RADIO_AM    0.296411\n",
       "TV4         0.296486\n",
       "ONLINE      0.495318\n",
       "YT1         0.422539\n",
       "YT1         0.296942\n",
       "FB          0.444478\n",
       "Name: rr, dtype: float64"
      ]
     },
     "execution_count": 78,
     "metadata": {},
     "output_type": "execute_result"
    }
   ],
   "source": [
    "rr"
   ]
  },
  {
   "cell_type": "code",
   "execution_count": 79,
   "metadata": {},
   "outputs": [
    {
     "data": {
      "text/html": [
       "<div>\n",
       "<style scoped>\n",
       "    .dataframe tbody tr th:only-of-type {\n",
       "        vertical-align: middle;\n",
       "    }\n",
       "\n",
       "    .dataframe tbody tr th {\n",
       "        vertical-align: top;\n",
       "    }\n",
       "\n",
       "    .dataframe thead th {\n",
       "        text-align: right;\n",
       "    }\n",
       "</style>\n",
       "<table border=\"1\" class=\"dataframe\">\n",
       "  <thead>\n",
       "    <tr style=\"text-align: right;\">\n",
       "      <th></th>\n",
       "      <th>TV1</th>\n",
       "      <th>RADIO_FM</th>\n",
       "      <th>TV2</th>\n",
       "      <th>TV3</th>\n",
       "      <th>RADIO_AM</th>\n",
       "      <th>TV4</th>\n",
       "      <th>ONLINE</th>\n",
       "      <th>YT1</th>\n",
       "      <th>YT1</th>\n",
       "      <th>FB</th>\n",
       "    </tr>\n",
       "  </thead>\n",
       "  <tbody>\n",
       "    <tr>\n",
       "      <th>0</th>\n",
       "      <td>1499.476291</td>\n",
       "      <td>0.000000</td>\n",
       "      <td>0.000000</td>\n",
       "      <td>0.000000</td>\n",
       "      <td>892.326103</td>\n",
       "      <td>0.000000</td>\n",
       "      <td>1595.849411</td>\n",
       "      <td>0.000000</td>\n",
       "      <td>455.231277</td>\n",
       "      <td>0.503700</td>\n",
       "    </tr>\n",
       "    <tr>\n",
       "      <th>1</th>\n",
       "      <td>1369.686350</td>\n",
       "      <td>0.000000</td>\n",
       "      <td>0.000000</td>\n",
       "      <td>0.000000</td>\n",
       "      <td>1107.015554</td>\n",
       "      <td>0.000000</td>\n",
       "      <td>62.057434</td>\n",
       "      <td>0.000000</td>\n",
       "      <td>233.770997</td>\n",
       "      <td>666.252171</td>\n",
       "    </tr>\n",
       "    <tr>\n",
       "      <th>2</th>\n",
       "      <td>0.000000</td>\n",
       "      <td>1115.778968</td>\n",
       "      <td>921.272576</td>\n",
       "      <td>601.995471</td>\n",
       "      <td>920.684759</td>\n",
       "      <td>0.000000</td>\n",
       "      <td>101.687820</td>\n",
       "      <td>0.000000</td>\n",
       "      <td>0.000000</td>\n",
       "      <td>624.284373</td>\n",
       "    </tr>\n",
       "    <tr>\n",
       "      <th>3</th>\n",
       "      <td>0.000000</td>\n",
       "      <td>0.000000</td>\n",
       "      <td>0.000000</td>\n",
       "      <td>0.000000</td>\n",
       "      <td>0.000000</td>\n",
       "      <td>189.868321</td>\n",
       "      <td>0.000000</td>\n",
       "      <td>387.532558</td>\n",
       "      <td>1527.841742</td>\n",
       "      <td>793.635328</td>\n",
       "    </tr>\n",
       "    <tr>\n",
       "      <th>4</th>\n",
       "      <td>46.531558</td>\n",
       "      <td>0.000000</td>\n",
       "      <td>0.000000</td>\n",
       "      <td>1553.963681</td>\n",
       "      <td>240.646204</td>\n",
       "      <td>0.000000</td>\n",
       "      <td>352.732388</td>\n",
       "      <td>1880.204109</td>\n",
       "      <td>296.127162</td>\n",
       "      <td>693.762488</td>\n",
       "    </tr>\n",
       "  </tbody>\n",
       "</table>\n",
       "</div>"
      ],
      "text/plain": [
       "           TV1     RADIO_FM         TV2          TV3     RADIO_AM         TV4  \\\n",
       "0  1499.476291     0.000000    0.000000     0.000000   892.326103    0.000000   \n",
       "1  1369.686350     0.000000    0.000000     0.000000  1107.015554    0.000000   \n",
       "2     0.000000  1115.778968  921.272576   601.995471   920.684759    0.000000   \n",
       "3     0.000000     0.000000    0.000000     0.000000     0.000000  189.868321   \n",
       "4    46.531558     0.000000    0.000000  1553.963681   240.646204    0.000000   \n",
       "\n",
       "        ONLINE          YT1          YT1          FB  \n",
       "0  1595.849411     0.000000   455.231277    0.503700  \n",
       "1    62.057434     0.000000   233.770997  666.252171  \n",
       "2   101.687820     0.000000     0.000000  624.284373  \n",
       "3     0.000000   387.532558  1527.841742  793.635328  \n",
       "4   352.732388  1880.204109   296.127162  693.762488  "
      ]
     },
     "execution_count": 79,
     "metadata": {},
     "output_type": "execute_result"
    }
   ],
   "source": [
    "MarketLevelData.head()"
   ]
  },
  {
   "cell_type": "markdown",
   "metadata": {},
   "source": [
    "### Perform the foumula mentioned bellow by considering the `MarketLevelData` dataframe and `rr` vecctor:\n",
    "\n",
    "$$AS_{i,j} = AS_{i,j-1} + (rr_{i} \\times Var_{i,j}), i = 1(1)10, j = 1(1)104$$\n",
    "\n",
    "Here Var represents the columns of dataframe `MarketLevelData`. AS is the elements of the new dataframe. Write a function which will impliment the following formula in `MarketLevelData` dataframe. \n",
    "\n",
    "1. Can you write a function using for loop which will compute this function in parallel? Is it possible to make it JIT compitable? If yes, then how? \n",
    "2. Write a pure numpy implimentation of the above mentioned formula and define a function. Use broadcasting and Matrix multiplication if there is a scope. \n",
    "3. Is it possible to scale-in and scale-out the above mentioned function? If yes, the what library will you use to perform the task. \n",
    "4. In each of the above mentioned cases include try catch to handel error and display relevant message. Warnings, messages should be converted to more meaningful logs.\n",
    "5. Include comment, doc string, stactic typing to make the code readable and reproducable. \n",
    "6. While writing this function take runtime into consideration. Profile and compare 3 functions and demonstrate how can improve the run time effeciency of the functions.\n",
    "7. Write few unit test cases for above mentioned function. What other testing could be considered to make the functions robust?\n",
    "8. Is there any function avaiable in other libraries which can perform this task without writing the function from stractch. \n",
    "\n",
    "\n",
    "\n",
    "\n",
    "####__Expected format of function definition:__\n",
    "\n",
    "```python\n",
    "\n",
    "def q1_calculation_for_loop(fargs, *args, **kwargs):\n",
    "  \"\"\"\n",
    "  Do something.\n",
    "  \"\"\"\n",
    "  return result\n",
    "```"
   ]
  },
  {
   "cell_type": "code",
   "execution_count": 80,
   "metadata": {},
   "outputs": [],
   "source": [
    "def q1_calculation_for_loop(df,rr):\n",
    "    df_temp = df.iloc[0,:].to_frame().T\n",
    "    row_0 = df.iloc[0,:]\n",
    "    for i in range(1,len(df)):\n",
    "        row_0 = row_0 * rr\n",
    "        row_1 = df.iloc[i,:]\n",
    "        row_new = row_0 + row_1\n",
    "        row_0 = row_new\n",
    "        df_temp = df_temp.append(row_new.to_frame().T)\n",
    "    return df_temp"
   ]
  },
  {
   "cell_type": "code",
   "execution_count": 81,
   "metadata": {},
   "outputs": [
    {
     "name": "stdout",
     "output_type": "stream",
     "text": [
      "Wall time: 252 ms\n"
     ]
    }
   ],
   "source": [
    "%time result1=q1_calculation_for_loop(MarketLevelData,rr)"
   ]
  },
  {
   "cell_type": "code",
   "execution_count": 82,
   "metadata": {},
   "outputs": [
    {
     "data": {
      "text/html": [
       "<div>\n",
       "<style scoped>\n",
       "    .dataframe tbody tr th:only-of-type {\n",
       "        vertical-align: middle;\n",
       "    }\n",
       "\n",
       "    .dataframe tbody tr th {\n",
       "        vertical-align: top;\n",
       "    }\n",
       "\n",
       "    .dataframe thead th {\n",
       "        text-align: right;\n",
       "    }\n",
       "</style>\n",
       "<table border=\"1\" class=\"dataframe\">\n",
       "  <thead>\n",
       "    <tr style=\"text-align: right;\">\n",
       "      <th></th>\n",
       "      <th>TV1</th>\n",
       "      <th>RADIO_FM</th>\n",
       "      <th>TV2</th>\n",
       "      <th>TV3</th>\n",
       "      <th>RADIO_AM</th>\n",
       "      <th>TV4</th>\n",
       "      <th>ONLINE</th>\n",
       "      <th>YT1</th>\n",
       "      <th>YT1</th>\n",
       "      <th>FB</th>\n",
       "    </tr>\n",
       "  </thead>\n",
       "  <tbody>\n",
       "    <tr>\n",
       "      <th>0</th>\n",
       "      <td>1499.476291</td>\n",
       "      <td>0.000000</td>\n",
       "      <td>0.000000</td>\n",
       "      <td>0.000000</td>\n",
       "      <td>892.326103</td>\n",
       "      <td>0.000000</td>\n",
       "      <td>1595.849411</td>\n",
       "      <td>0.000000</td>\n",
       "      <td>455.231277</td>\n",
       "      <td>0.503700</td>\n",
       "    </tr>\n",
       "    <tr>\n",
       "      <th>0</th>\n",
       "      <td>1922.248699</td>\n",
       "      <td>0.000000</td>\n",
       "      <td>0.000000</td>\n",
       "      <td>0.000000</td>\n",
       "      <td>1371.511248</td>\n",
       "      <td>0.000000</td>\n",
       "      <td>852.511166</td>\n",
       "      <td>0.000000</td>\n",
       "      <td>368.948285</td>\n",
       "      <td>666.476054</td>\n",
       "    </tr>\n",
       "    <tr>\n",
       "      <th>0</th>\n",
       "      <td>708.355486</td>\n",
       "      <td>1115.778968</td>\n",
       "      <td>921.272576</td>\n",
       "      <td>601.995471</td>\n",
       "      <td>1327.216428</td>\n",
       "      <td>0.000000</td>\n",
       "      <td>523.952369</td>\n",
       "      <td>0.000000</td>\n",
       "      <td>109.556243</td>\n",
       "      <td>920.518000</td>\n",
       "    </tr>\n",
       "    <tr>\n",
       "      <th>0</th>\n",
       "      <td>261.031517</td>\n",
       "      <td>315.756157</td>\n",
       "      <td>370.492919</td>\n",
       "      <td>348.796933</td>\n",
       "      <td>393.402176</td>\n",
       "      <td>189.868321</td>\n",
       "      <td>259.523300</td>\n",
       "      <td>387.532558</td>\n",
       "      <td>1560.373592</td>\n",
       "      <td>1202.784890</td>\n",
       "    </tr>\n",
       "    <tr>\n",
       "      <th>0</th>\n",
       "      <td>142.722601</td>\n",
       "      <td>89.356363</td>\n",
       "      <td>148.994995</td>\n",
       "      <td>1756.057063</td>\n",
       "      <td>357.255122</td>\n",
       "      <td>56.293394</td>\n",
       "      <td>481.279078</td>\n",
       "      <td>2043.951806</td>\n",
       "      <td>759.467623</td>\n",
       "      <td>1228.373338</td>\n",
       "    </tr>\n",
       "  </tbody>\n",
       "</table>\n",
       "</div>"
      ],
      "text/plain": [
       "           TV1     RADIO_FM         TV2          TV3     RADIO_AM         TV4  \\\n",
       "0  1499.476291     0.000000    0.000000     0.000000   892.326103    0.000000   \n",
       "0  1922.248699     0.000000    0.000000     0.000000  1371.511248    0.000000   \n",
       "0   708.355486  1115.778968  921.272576   601.995471  1327.216428    0.000000   \n",
       "0   261.031517   315.756157  370.492919   348.796933   393.402176  189.868321   \n",
       "0   142.722601    89.356363  148.994995  1756.057063   357.255122   56.293394   \n",
       "\n",
       "        ONLINE          YT1          YT1           FB  \n",
       "0  1595.849411     0.000000   455.231277     0.503700  \n",
       "0   852.511166     0.000000   368.948285   666.476054  \n",
       "0   523.952369     0.000000   109.556243   920.518000  \n",
       "0   259.523300   387.532558  1560.373592  1202.784890  \n",
       "0   481.279078  2043.951806   759.467623  1228.373338  "
      ]
     },
     "execution_count": 82,
     "metadata": {},
     "output_type": "execute_result"
    }
   ],
   "source": [
    "result1.head()"
   ]
  },
  {
   "cell_type": "code",
   "execution_count": 83,
   "metadata": {},
   "outputs": [],
   "source": [
    "def q1_calculation_for_loop_v2(df,rr):\n",
    "    df_temp1 = df.iloc[0:1]\n",
    "    for i in range(1,len(df)):\n",
    "        df_temp1 = df_temp1.append(rr*df_temp1.iloc[-1]+df.iloc[i],ignore_index=True)\n",
    "    return df_temp1\n"
   ]
  },
  {
   "cell_type": "code",
   "execution_count": 84,
   "metadata": {},
   "outputs": [
    {
     "name": "stdout",
     "output_type": "stream",
     "text": [
      "Wall time: 196 ms\n"
     ]
    }
   ],
   "source": [
    "%time result2=q1_calculation_for_loop_v2(MarketLevelData,rr)"
   ]
  },
  {
   "cell_type": "code",
   "execution_count": 85,
   "metadata": {},
   "outputs": [
    {
     "data": {
      "text/html": [
       "<div>\n",
       "<style scoped>\n",
       "    .dataframe tbody tr th:only-of-type {\n",
       "        vertical-align: middle;\n",
       "    }\n",
       "\n",
       "    .dataframe tbody tr th {\n",
       "        vertical-align: top;\n",
       "    }\n",
       "\n",
       "    .dataframe thead th {\n",
       "        text-align: right;\n",
       "    }\n",
       "</style>\n",
       "<table border=\"1\" class=\"dataframe\">\n",
       "  <thead>\n",
       "    <tr style=\"text-align: right;\">\n",
       "      <th></th>\n",
       "      <th>TV1</th>\n",
       "      <th>RADIO_FM</th>\n",
       "      <th>TV2</th>\n",
       "      <th>TV3</th>\n",
       "      <th>RADIO_AM</th>\n",
       "      <th>TV4</th>\n",
       "      <th>ONLINE</th>\n",
       "      <th>YT1</th>\n",
       "      <th>YT1</th>\n",
       "      <th>FB</th>\n",
       "    </tr>\n",
       "  </thead>\n",
       "  <tbody>\n",
       "    <tr>\n",
       "      <th>0</th>\n",
       "      <td>1499.476291</td>\n",
       "      <td>0.000000</td>\n",
       "      <td>0.000000</td>\n",
       "      <td>0.000000</td>\n",
       "      <td>892.326103</td>\n",
       "      <td>0.000000</td>\n",
       "      <td>1595.849411</td>\n",
       "      <td>0.000000</td>\n",
       "      <td>455.231277</td>\n",
       "      <td>0.503700</td>\n",
       "    </tr>\n",
       "    <tr>\n",
       "      <th>1</th>\n",
       "      <td>1922.248699</td>\n",
       "      <td>0.000000</td>\n",
       "      <td>0.000000</td>\n",
       "      <td>0.000000</td>\n",
       "      <td>1371.511248</td>\n",
       "      <td>0.000000</td>\n",
       "      <td>852.511166</td>\n",
       "      <td>0.000000</td>\n",
       "      <td>368.948285</td>\n",
       "      <td>666.476054</td>\n",
       "    </tr>\n",
       "    <tr>\n",
       "      <th>2</th>\n",
       "      <td>708.355486</td>\n",
       "      <td>1115.778968</td>\n",
       "      <td>921.272576</td>\n",
       "      <td>601.995471</td>\n",
       "      <td>1327.216428</td>\n",
       "      <td>0.000000</td>\n",
       "      <td>523.952369</td>\n",
       "      <td>0.000000</td>\n",
       "      <td>109.556243</td>\n",
       "      <td>920.518000</td>\n",
       "    </tr>\n",
       "    <tr>\n",
       "      <th>3</th>\n",
       "      <td>261.031517</td>\n",
       "      <td>315.756157</td>\n",
       "      <td>370.492919</td>\n",
       "      <td>348.796933</td>\n",
       "      <td>393.402176</td>\n",
       "      <td>189.868321</td>\n",
       "      <td>259.523300</td>\n",
       "      <td>387.532558</td>\n",
       "      <td>1560.373592</td>\n",
       "      <td>1202.784890</td>\n",
       "    </tr>\n",
       "    <tr>\n",
       "      <th>4</th>\n",
       "      <td>142.722601</td>\n",
       "      <td>89.356363</td>\n",
       "      <td>148.994995</td>\n",
       "      <td>1756.057063</td>\n",
       "      <td>357.255122</td>\n",
       "      <td>56.293394</td>\n",
       "      <td>481.279078</td>\n",
       "      <td>2043.951806</td>\n",
       "      <td>759.467623</td>\n",
       "      <td>1228.373338</td>\n",
       "    </tr>\n",
       "  </tbody>\n",
       "</table>\n",
       "</div>"
      ],
      "text/plain": [
       "           TV1     RADIO_FM         TV2          TV3     RADIO_AM         TV4  \\\n",
       "0  1499.476291     0.000000    0.000000     0.000000   892.326103    0.000000   \n",
       "1  1922.248699     0.000000    0.000000     0.000000  1371.511248    0.000000   \n",
       "2   708.355486  1115.778968  921.272576   601.995471  1327.216428    0.000000   \n",
       "3   261.031517   315.756157  370.492919   348.796933   393.402176  189.868321   \n",
       "4   142.722601    89.356363  148.994995  1756.057063   357.255122   56.293394   \n",
       "\n",
       "        ONLINE          YT1          YT1           FB  \n",
       "0  1595.849411     0.000000   455.231277     0.503700  \n",
       "1   852.511166     0.000000   368.948285   666.476054  \n",
       "2   523.952369     0.000000   109.556243   920.518000  \n",
       "3   259.523300   387.532558  1560.373592  1202.784890  \n",
       "4   481.279078  2043.951806   759.467623  1228.373338  "
      ]
     },
     "execution_count": 85,
     "metadata": {},
     "output_type": "execute_result"
    }
   ],
   "source": [
    "result2.head()"
   ]
  },
  {
   "cell_type": "code",
   "execution_count": 86,
   "metadata": {},
   "outputs": [],
   "source": [
    "def q1_numpy(df,rr):\n",
    "    \"\"\"\n",
    "    Input :- Dataframe as df\n",
    "            rr is the value given above\n",
    "    Output :- returns a DataFrame object \n",
    "    \n",
    "    Functioning :- As there is impact of previous values on the current value by the factor rr with some power.\n",
    "        First create a numpy array with factors with which we are going to multiply the value to get the nth row output\n",
    "        then after dot product of the dataframe columns value by there respective factors we will get the desired dataframe\n",
    "    \"\"\"\n",
    "    b = (np.arange(MarketLevelData.shape[0],dtype=\"int32\") +np.zeros((MarketLevelData.shape[0],MarketLevelData.shape[0]))).T - np.arange(MarketLevelData.shape[0])\n",
    "    b[b<0]=0\n",
    "    col = df.columns\n",
    "    for i in range(len(rr)):\n",
    "        c = np.power(rr[i],b)\n",
    "        c = np.tril(c,-1)\n",
    "        np.fill_diagonal(c, 1)\n",
    "        df.iloc[:,i] = np.dot(c,df.iloc[:,i].values)\n",
    "    return df"
   ]
  },
  {
   "cell_type": "code",
   "execution_count": 87,
   "metadata": {},
   "outputs": [
    {
     "name": "stdout",
     "output_type": "stream",
     "text": [
      "Wall time: 24 ms\n"
     ]
    }
   ],
   "source": [
    "%time result3=q1_numpy(MarketLevelData,rr)"
   ]
  },
  {
   "cell_type": "code",
   "execution_count": 88,
   "metadata": {},
   "outputs": [
    {
     "data": {
      "text/html": [
       "<div>\n",
       "<style scoped>\n",
       "    .dataframe tbody tr th:only-of-type {\n",
       "        vertical-align: middle;\n",
       "    }\n",
       "\n",
       "    .dataframe tbody tr th {\n",
       "        vertical-align: top;\n",
       "    }\n",
       "\n",
       "    .dataframe thead th {\n",
       "        text-align: right;\n",
       "    }\n",
       "</style>\n",
       "<table border=\"1\" class=\"dataframe\">\n",
       "  <thead>\n",
       "    <tr style=\"text-align: right;\">\n",
       "      <th></th>\n",
       "      <th>TV1</th>\n",
       "      <th>RADIO_FM</th>\n",
       "      <th>TV2</th>\n",
       "      <th>TV3</th>\n",
       "      <th>RADIO_AM</th>\n",
       "      <th>TV4</th>\n",
       "      <th>ONLINE</th>\n",
       "      <th>YT1</th>\n",
       "      <th>YT1</th>\n",
       "      <th>FB</th>\n",
       "    </tr>\n",
       "  </thead>\n",
       "  <tbody>\n",
       "    <tr>\n",
       "      <th>0</th>\n",
       "      <td>1499.476291</td>\n",
       "      <td>0.000000</td>\n",
       "      <td>0.000000</td>\n",
       "      <td>0.000000</td>\n",
       "      <td>892.326103</td>\n",
       "      <td>0.000000</td>\n",
       "      <td>1595.849411</td>\n",
       "      <td>0.000000</td>\n",
       "      <td>455.231277</td>\n",
       "      <td>0.503700</td>\n",
       "    </tr>\n",
       "    <tr>\n",
       "      <th>1</th>\n",
       "      <td>1922.248699</td>\n",
       "      <td>0.000000</td>\n",
       "      <td>0.000000</td>\n",
       "      <td>0.000000</td>\n",
       "      <td>1371.511248</td>\n",
       "      <td>0.000000</td>\n",
       "      <td>852.511166</td>\n",
       "      <td>0.000000</td>\n",
       "      <td>368.948285</td>\n",
       "      <td>666.476054</td>\n",
       "    </tr>\n",
       "    <tr>\n",
       "      <th>2</th>\n",
       "      <td>708.355486</td>\n",
       "      <td>1115.778968</td>\n",
       "      <td>921.272576</td>\n",
       "      <td>601.995471</td>\n",
       "      <td>1327.216428</td>\n",
       "      <td>0.000000</td>\n",
       "      <td>523.952369</td>\n",
       "      <td>0.000000</td>\n",
       "      <td>109.556243</td>\n",
       "      <td>920.518000</td>\n",
       "    </tr>\n",
       "    <tr>\n",
       "      <th>3</th>\n",
       "      <td>261.031517</td>\n",
       "      <td>315.756157</td>\n",
       "      <td>370.492919</td>\n",
       "      <td>348.796933</td>\n",
       "      <td>393.402176</td>\n",
       "      <td>189.868321</td>\n",
       "      <td>259.523300</td>\n",
       "      <td>387.532558</td>\n",
       "      <td>1560.373592</td>\n",
       "      <td>1202.784890</td>\n",
       "    </tr>\n",
       "    <tr>\n",
       "      <th>4</th>\n",
       "      <td>142.722601</td>\n",
       "      <td>89.356363</td>\n",
       "      <td>148.994995</td>\n",
       "      <td>1756.057063</td>\n",
       "      <td>357.255122</td>\n",
       "      <td>56.293394</td>\n",
       "      <td>481.279078</td>\n",
       "      <td>2043.951806</td>\n",
       "      <td>759.467623</td>\n",
       "      <td>1228.373338</td>\n",
       "    </tr>\n",
       "  </tbody>\n",
       "</table>\n",
       "</div>"
      ],
      "text/plain": [
       "           TV1     RADIO_FM         TV2          TV3     RADIO_AM         TV4  \\\n",
       "0  1499.476291     0.000000    0.000000     0.000000   892.326103    0.000000   \n",
       "1  1922.248699     0.000000    0.000000     0.000000  1371.511248    0.000000   \n",
       "2   708.355486  1115.778968  921.272576   601.995471  1327.216428    0.000000   \n",
       "3   261.031517   315.756157  370.492919   348.796933   393.402176  189.868321   \n",
       "4   142.722601    89.356363  148.994995  1756.057063   357.255122   56.293394   \n",
       "\n",
       "        ONLINE          YT1          YT1           FB  \n",
       "0  1595.849411     0.000000   455.231277     0.503700  \n",
       "1   852.511166     0.000000   368.948285   666.476054  \n",
       "2   523.952369     0.000000   109.556243   920.518000  \n",
       "3   259.523300   387.532558  1560.373592  1202.784890  \n",
       "4   481.279078  2043.951806   759.467623  1228.373338  "
      ]
     },
     "execution_count": 88,
     "metadata": {},
     "output_type": "execute_result"
    }
   ],
   "source": [
    "result3.head()"
   ]
  },
  {
   "cell_type": "code",
   "execution_count": 22,
   "metadata": {},
   "outputs": [],
   "source": [
    "from numba import jit"
   ]
  },
  {
   "cell_type": "code",
   "execution_count": 89,
   "metadata": {},
   "outputs": [],
   "source": [
    "@jit(nopython=True)\n",
    "def q1_numpy(df,rr):\n",
    "    \"\"\"\n",
    "    Input :- Dataframe as df\n",
    "            rr is the value given above\n",
    "    Output :- returns a DataFrame object \n",
    "    \n",
    "    Functioning :- As there is impact of previous values on the current value by the factor rr with some power.\n",
    "        First create a numpy array with factors with which we are going to multiply the value to get the nth row output\n",
    "        then after dot product of the dataframe columns value by there respective factors we will get the desired dataframe\n",
    "    \"\"\"\n",
    "    b = (np.arange(MarketLevelData.shape[0],dtype=\"int32\") +np.zeros((MarketLevelData.shape[0],MarketLevelData.shape[0]))).T - np.arange(MarketLevelData.shape[0])\n",
    "    b[b<0]=0\n",
    "    col = df.columns\n",
    "    for i in range(len(rr)):\n",
    "        c = np.power(rr[i],b)\n",
    "        c = np.tril(c,-1)\n",
    "        np.fill_diagonal(c, 1)\n",
    "        df.iloc[:,i] = np.dot(c,df.iloc[:,i].values)\n",
    "    return df\n"
   ]
  },
  {
   "cell_type": "code",
   "execution_count": 90,
   "metadata": {},
   "outputs": [
    {
     "ename": "TypingError",
     "evalue": "Failed in nopython mode pipeline (step: nopython frontend)\nInternal error at <numba.typeinfer.ArgConstraint object at 0x000001E92AC0E668>:\n--%<----------------------------------------------------------------------------\nTraceback (most recent call last):\n  File \"C:\\Users\\pragyan.prakash\\AppData\\Local\\Continuum\\anaconda3\\envs\\p37\\lib\\site-packages\\numba\\errors.py\", line 627, in new_error_context\n    yield\n  File \"C:\\Users\\pragyan.prakash\\AppData\\Local\\Continuum\\anaconda3\\envs\\p37\\lib\\site-packages\\numba\\typeinfer.py\", line 201, in __call__\n    assert ty.is_precise()\nAssertionError\n\nDuring handling of the above exception, another exception occurred:\n\nTraceback (most recent call last):\n  File \"C:\\Users\\pragyan.prakash\\AppData\\Local\\Continuum\\anaconda3\\envs\\p37\\lib\\site-packages\\numba\\typeinfer.py\", line 144, in propagate\n    constraint(typeinfer)\n  File \"C:\\Users\\pragyan.prakash\\AppData\\Local\\Continuum\\anaconda3\\envs\\p37\\lib\\site-packages\\numba\\typeinfer.py\", line 202, in __call__\n    typeinfer.add_type(self.dst, ty, loc=self.loc)\n  File \"C:\\Users\\pragyan.prakash\\AppData\\Local\\Continuum\\anaconda3\\envs\\p37\\lib\\contextlib.py\", line 130, in __exit__\n    self.gen.throw(type, value, traceback)\n  File \"C:\\Users\\pragyan.prakash\\AppData\\Local\\Continuum\\anaconda3\\envs\\p37\\lib\\site-packages\\numba\\errors.py\", line 635, in new_error_context\n    six.reraise(type(newerr), newerr, tb)\n  File \"C:\\Users\\pragyan.prakash\\AppData\\Local\\Continuum\\anaconda3\\envs\\p37\\lib\\site-packages\\numba\\six.py\", line 659, in reraise\n    raise value\nnumba.errors.InternalError: \u001b[1m\u001b[1m\u001b[0m\n\u001b[0m\u001b[1m[1] During: typing of argument at <ipython-input-23-69a13b84ba30> (3)\u001b[0m\n--%<----------------------------------------------------------------------------\n\n\u001b[1m\nFile \"<ipython-input-23-69a13b84ba30>\", line 3:\u001b[0m\n\u001b[1mdef q1_calculation_for_loop_v3(df,rr):\n\u001b[1m    df_temp1 = df.iloc[0:1]\n\u001b[0m    \u001b[1m^\u001b[0m\u001b[0m\n\nThis error may have been caused by the following argument(s):\n- argument 0: \u001b[1mcannot determine Numba type of <class 'pandas.core.frame.DataFrame'>\u001b[0m\n- argument 1: \u001b[1mcannot determine Numba type of <class 'pandas.core.series.Series'>\u001b[0m\n\nThis is not usually a problem with Numba itself but instead often caused by\nthe use of unsupported features or an issue in resolving types.\n\nTo see Python/NumPy features supported by the latest release of Numba visit:\nhttp://numba.pydata.org/numba-doc/dev/reference/pysupported.html\nand\nhttp://numba.pydata.org/numba-doc/dev/reference/numpysupported.html\n\nFor more information about typing errors and how to debug them visit:\nhttp://numba.pydata.org/numba-doc/latest/user/troubleshoot.html#my-code-doesn-t-compile\n\nIf you think your code should work with Numba, please report the error message\nand traceback, along with a minimal reproducer at:\nhttps://github.com/numba/numba/issues/new\n",
     "output_type": "error",
     "traceback": [
      "\u001b[1;31m---------------------------------------------------------------------------\u001b[0m",
      "\u001b[1;31mTypingError\u001b[0m                               Traceback (most recent call last)",
      "\u001b[1;32m<timed exec>\u001b[0m in \u001b[0;36m<module>\u001b[1;34m\u001b[0m\n",
      "\u001b[1;32m~\\AppData\\Local\\Continuum\\anaconda3\\envs\\p37\\lib\\site-packages\\numba\\dispatcher.py\u001b[0m in \u001b[0;36m_compile_for_args\u001b[1;34m(self, *args, **kws)\u001b[0m\n\u001b[0;32m    348\u001b[0m                 \u001b[0me\u001b[0m\u001b[1;33m.\u001b[0m\u001b[0mpatch_message\u001b[0m\u001b[1;33m(\u001b[0m\u001b[0mmsg\u001b[0m\u001b[1;33m)\u001b[0m\u001b[1;33m\u001b[0m\u001b[1;33m\u001b[0m\u001b[0m\n\u001b[0;32m    349\u001b[0m \u001b[1;33m\u001b[0m\u001b[0m\n\u001b[1;32m--> 350\u001b[1;33m             \u001b[0merror_rewrite\u001b[0m\u001b[1;33m(\u001b[0m\u001b[0me\u001b[0m\u001b[1;33m,\u001b[0m \u001b[1;34m'typing'\u001b[0m\u001b[1;33m)\u001b[0m\u001b[1;33m\u001b[0m\u001b[1;33m\u001b[0m\u001b[0m\n\u001b[0m\u001b[0;32m    351\u001b[0m         \u001b[1;32mexcept\u001b[0m \u001b[0merrors\u001b[0m\u001b[1;33m.\u001b[0m\u001b[0mUnsupportedError\u001b[0m \u001b[1;32mas\u001b[0m \u001b[0me\u001b[0m\u001b[1;33m:\u001b[0m\u001b[1;33m\u001b[0m\u001b[1;33m\u001b[0m\u001b[0m\n\u001b[0;32m    352\u001b[0m             \u001b[1;31m# Something unsupported is present in the user code, add help info\u001b[0m\u001b[1;33m\u001b[0m\u001b[1;33m\u001b[0m\u001b[1;33m\u001b[0m\u001b[0m\n",
      "\u001b[1;32m~\\AppData\\Local\\Continuum\\anaconda3\\envs\\p37\\lib\\site-packages\\numba\\dispatcher.py\u001b[0m in \u001b[0;36merror_rewrite\u001b[1;34m(e, issue_type)\u001b[0m\n\u001b[0;32m    315\u001b[0m                 \u001b[1;32mraise\u001b[0m \u001b[0me\u001b[0m\u001b[1;33m\u001b[0m\u001b[1;33m\u001b[0m\u001b[0m\n\u001b[0;32m    316\u001b[0m             \u001b[1;32melse\u001b[0m\u001b[1;33m:\u001b[0m\u001b[1;33m\u001b[0m\u001b[1;33m\u001b[0m\u001b[0m\n\u001b[1;32m--> 317\u001b[1;33m                 \u001b[0mreraise\u001b[0m\u001b[1;33m(\u001b[0m\u001b[0mtype\u001b[0m\u001b[1;33m(\u001b[0m\u001b[0me\u001b[0m\u001b[1;33m)\u001b[0m\u001b[1;33m,\u001b[0m \u001b[0me\u001b[0m\u001b[1;33m,\u001b[0m \u001b[1;32mNone\u001b[0m\u001b[1;33m)\u001b[0m\u001b[1;33m\u001b[0m\u001b[1;33m\u001b[0m\u001b[0m\n\u001b[0m\u001b[0;32m    318\u001b[0m \u001b[1;33m\u001b[0m\u001b[0m\n\u001b[0;32m    319\u001b[0m         \u001b[0margtypes\u001b[0m \u001b[1;33m=\u001b[0m \u001b[1;33m[\u001b[0m\u001b[1;33m]\u001b[0m\u001b[1;33m\u001b[0m\u001b[1;33m\u001b[0m\u001b[0m\n",
      "\u001b[1;32m~\\AppData\\Local\\Continuum\\anaconda3\\envs\\p37\\lib\\site-packages\\numba\\six.py\u001b[0m in \u001b[0;36mreraise\u001b[1;34m(tp, value, tb)\u001b[0m\n\u001b[0;32m    656\u001b[0m             \u001b[0mvalue\u001b[0m \u001b[1;33m=\u001b[0m \u001b[0mtp\u001b[0m\u001b[1;33m(\u001b[0m\u001b[1;33m)\u001b[0m\u001b[1;33m\u001b[0m\u001b[1;33m\u001b[0m\u001b[0m\n\u001b[0;32m    657\u001b[0m         \u001b[1;32mif\u001b[0m \u001b[0mvalue\u001b[0m\u001b[1;33m.\u001b[0m\u001b[0m__traceback__\u001b[0m \u001b[1;32mis\u001b[0m \u001b[1;32mnot\u001b[0m \u001b[0mtb\u001b[0m\u001b[1;33m:\u001b[0m\u001b[1;33m\u001b[0m\u001b[1;33m\u001b[0m\u001b[0m\n\u001b[1;32m--> 658\u001b[1;33m             \u001b[1;32mraise\u001b[0m \u001b[0mvalue\u001b[0m\u001b[1;33m.\u001b[0m\u001b[0mwith_traceback\u001b[0m\u001b[1;33m(\u001b[0m\u001b[0mtb\u001b[0m\u001b[1;33m)\u001b[0m\u001b[1;33m\u001b[0m\u001b[1;33m\u001b[0m\u001b[0m\n\u001b[0m\u001b[0;32m    659\u001b[0m         \u001b[1;32mraise\u001b[0m \u001b[0mvalue\u001b[0m\u001b[1;33m\u001b[0m\u001b[1;33m\u001b[0m\u001b[0m\n\u001b[0;32m    660\u001b[0m \u001b[1;33m\u001b[0m\u001b[0m\n",
      "\u001b[1;31mTypingError\u001b[0m: Failed in nopython mode pipeline (step: nopython frontend)\nInternal error at <numba.typeinfer.ArgConstraint object at 0x000001E92AC0E668>:\n--%<----------------------------------------------------------------------------\nTraceback (most recent call last):\n  File \"C:\\Users\\pragyan.prakash\\AppData\\Local\\Continuum\\anaconda3\\envs\\p37\\lib\\site-packages\\numba\\errors.py\", line 627, in new_error_context\n    yield\n  File \"C:\\Users\\pragyan.prakash\\AppData\\Local\\Continuum\\anaconda3\\envs\\p37\\lib\\site-packages\\numba\\typeinfer.py\", line 201, in __call__\n    assert ty.is_precise()\nAssertionError\n\nDuring handling of the above exception, another exception occurred:\n\nTraceback (most recent call last):\n  File \"C:\\Users\\pragyan.prakash\\AppData\\Local\\Continuum\\anaconda3\\envs\\p37\\lib\\site-packages\\numba\\typeinfer.py\", line 144, in propagate\n    constraint(typeinfer)\n  File \"C:\\Users\\pragyan.prakash\\AppData\\Local\\Continuum\\anaconda3\\envs\\p37\\lib\\site-packages\\numba\\typeinfer.py\", line 202, in __call__\n    typeinfer.add_type(self.dst, ty, loc=self.loc)\n  File \"C:\\Users\\pragyan.prakash\\AppData\\Local\\Continuum\\anaconda3\\envs\\p37\\lib\\contextlib.py\", line 130, in __exit__\n    self.gen.throw(type, value, traceback)\n  File \"C:\\Users\\pragyan.prakash\\AppData\\Local\\Continuum\\anaconda3\\envs\\p37\\lib\\site-packages\\numba\\errors.py\", line 635, in new_error_context\n    six.reraise(type(newerr), newerr, tb)\n  File \"C:\\Users\\pragyan.prakash\\AppData\\Local\\Continuum\\anaconda3\\envs\\p37\\lib\\site-packages\\numba\\six.py\", line 659, in reraise\n    raise value\nnumba.errors.InternalError: \u001b[1m\u001b[1m\u001b[0m\n\u001b[0m\u001b[1m[1] During: typing of argument at <ipython-input-23-69a13b84ba30> (3)\u001b[0m\n--%<----------------------------------------------------------------------------\n\n\u001b[1m\nFile \"<ipython-input-23-69a13b84ba30>\", line 3:\u001b[0m\n\u001b[1mdef q1_calculation_for_loop_v3(df,rr):\n\u001b[1m    df_temp1 = df.iloc[0:1]\n\u001b[0m    \u001b[1m^\u001b[0m\u001b[0m\n\nThis error may have been caused by the following argument(s):\n- argument 0: \u001b[1mcannot determine Numba type of <class 'pandas.core.frame.DataFrame'>\u001b[0m\n- argument 1: \u001b[1mcannot determine Numba type of <class 'pandas.core.series.Series'>\u001b[0m\n\nThis is not usually a problem with Numba itself but instead often caused by\nthe use of unsupported features or an issue in resolving types.\n\nTo see Python/NumPy features supported by the latest release of Numba visit:\nhttp://numba.pydata.org/numba-doc/dev/reference/pysupported.html\nand\nhttp://numba.pydata.org/numba-doc/dev/reference/numpysupported.html\n\nFor more information about typing errors and how to debug them visit:\nhttp://numba.pydata.org/numba-doc/latest/user/troubleshoot.html#my-code-doesn-t-compile\n\nIf you think your code should work with Numba, please report the error message\nand traceback, along with a minimal reproducer at:\nhttps://github.com/numba/numba/issues/new\n"
     ]
    }
   ],
   "source": [
    "%%time\n",
    "result2=q1_calculation_for_loop_v3(MarketLevelData,rr)"
   ]
  },
  {
   "cell_type": "markdown",
   "metadata": {},
   "source": [
    "### After running the cell below there will be a `salesdata` loaded in memory. Perform the following tasks in order:\n",
    "\n",
    "9.  NA and outlier imputation. \n",
    "10.  Non zero sales and count for each store. \n",
    "11.  Tally total sales and count at a store and date level. \n",
    "12.   Dates for each store with minimum and maximum sales.\n",
    "13.   There can be multiple same date variable present for each store. Make sure after processing each date appear only once for each store.\n",
    "14.   Date colum ranges between 2018/01/01 to 2018/01/07. Make sure that all these dates are present for each store. Do the required padding/filling for other\n",
    "15.   columns while performing this operation. Sales and count can be aggregated by addition. \n",
    "16.   Change date format to 'dd-mm-yyyy'.\n",
    "17.   Create a new string column in the same dataframe named 'Day' and map days of week corresponding to each date in the datafreame. \n",
    "18.  While performing the task take runtime, memory consumption into consideration. Demonstrate all the best practise to write, maintain and develop readable and reproducable code."
   ]
  },
  {
   "cell_type": "code",
   "execution_count": 25,
   "metadata": {},
   "outputs": [
    {
     "data": {
      "text/html": [
       "<div>\n",
       "<style scoped>\n",
       "    .dataframe tbody tr th:only-of-type {\n",
       "        vertical-align: middle;\n",
       "    }\n",
       "\n",
       "    .dataframe tbody tr th {\n",
       "        vertical-align: top;\n",
       "    }\n",
       "\n",
       "    .dataframe thead th {\n",
       "        text-align: right;\n",
       "    }\n",
       "</style>\n",
       "<table border=\"1\" class=\"dataframe\">\n",
       "  <thead>\n",
       "    <tr style=\"text-align: right;\">\n",
       "      <th></th>\n",
       "      <th>STORES</th>\n",
       "      <th>DATES</th>\n",
       "      <th>SALES</th>\n",
       "      <th>COUNT</th>\n",
       "    </tr>\n",
       "  </thead>\n",
       "  <tbody>\n",
       "    <tr>\n",
       "      <th>0</th>\n",
       "      <td>STORE110</td>\n",
       "      <td>2018-01-01</td>\n",
       "      <td>624.0</td>\n",
       "      <td>10.0</td>\n",
       "    </tr>\n",
       "    <tr>\n",
       "      <th>1</th>\n",
       "      <td>STORE110</td>\n",
       "      <td>2018-01-03</td>\n",
       "      <td>271.0</td>\n",
       "      <td>3.0</td>\n",
       "    </tr>\n",
       "    <tr>\n",
       "      <th>2</th>\n",
       "      <td>STORE110</td>\n",
       "      <td>2018-01-05</td>\n",
       "      <td>5589.0</td>\n",
       "      <td>9.0</td>\n",
       "    </tr>\n",
       "    <tr>\n",
       "      <th>3</th>\n",
       "      <td>STORE110</td>\n",
       "      <td>2018-01-06</td>\n",
       "      <td>5541.0</td>\n",
       "      <td>10.0</td>\n",
       "    </tr>\n",
       "    <tr>\n",
       "      <th>4</th>\n",
       "      <td>STORE110</td>\n",
       "      <td>2018-01-07</td>\n",
       "      <td>40.0</td>\n",
       "      <td>6.0</td>\n",
       "    </tr>\n",
       "  </tbody>\n",
       "</table>\n",
       "</div>"
      ],
      "text/plain": [
       "     STORES      DATES   SALES  COUNT\n",
       "0  STORE110 2018-01-01   624.0   10.0\n",
       "1  STORE110 2018-01-03   271.0    3.0\n",
       "2  STORE110 2018-01-05  5589.0    9.0\n",
       "3  STORE110 2018-01-06  5541.0   10.0\n",
       "4  STORE110 2018-01-07    40.0    6.0"
      ]
     },
     "execution_count": 25,
     "metadata": {},
     "output_type": "execute_result"
    }
   ],
   "source": [
    "url='https://raw.githubusercontent.com/pandalearnstocode/csvfiles/master/salesdata.csv'\n",
    "salesdata=pd.read_csv(url,parse_dates=['DATES'])\n",
    "salesdata.head()"
   ]
  },
  {
   "cell_type": "code",
   "execution_count": 26,
   "metadata": {},
   "outputs": [
    {
     "data": {
      "text/plain": [
       "STORES    0\n",
       "DATES     0\n",
       "SALES     2\n",
       "COUNT     2\n",
       "dtype: int64"
      ]
     },
     "execution_count": 26,
     "metadata": {},
     "output_type": "execute_result"
    }
   ],
   "source": [
    "salesdata.isna().sum()"
   ]
  },
  {
   "cell_type": "code",
   "execution_count": 27,
   "metadata": {
    "scrolled": true
   },
   "outputs": [
    {
     "name": "stdout",
     "output_type": "stream",
     "text": [
      "<class 'pandas.core.frame.DataFrame'>\n",
      "RangeIndex: 50 entries, 0 to 49\n",
      "Data columns (total 4 columns):\n",
      "STORES    50 non-null object\n",
      "DATES     50 non-null datetime64[ns]\n",
      "SALES     48 non-null float64\n",
      "COUNT     48 non-null float64\n",
      "dtypes: datetime64[ns](1), float64(2), object(1)\n",
      "memory usage: 1.6+ KB\n"
     ]
    }
   ],
   "source": [
    "salesdata.info()"
   ]
  },
  {
   "cell_type": "markdown",
   "metadata": {},
   "source": [
    "From above summary it is clear that we have 2 NA's in both 'SALES' and 'COUNT' values, we'll deal with it once we find \"Non zero sales and count for each store\""
   ]
  },
  {
   "cell_type": "code",
   "execution_count": 28,
   "metadata": {},
   "outputs": [
    {
     "data": {
      "text/html": [
       "<div>\n",
       "<style scoped>\n",
       "    .dataframe tbody tr th:only-of-type {\n",
       "        vertical-align: middle;\n",
       "    }\n",
       "\n",
       "    .dataframe tbody tr th {\n",
       "        vertical-align: top;\n",
       "    }\n",
       "\n",
       "    .dataframe thead th {\n",
       "        text-align: right;\n",
       "    }\n",
       "</style>\n",
       "<table border=\"1\" class=\"dataframe\">\n",
       "  <thead>\n",
       "    <tr style=\"text-align: right;\">\n",
       "      <th></th>\n",
       "      <th>SALES</th>\n",
       "      <th>COUNT</th>\n",
       "    </tr>\n",
       "    <tr>\n",
       "      <th>STORES</th>\n",
       "      <th></th>\n",
       "      <th></th>\n",
       "    </tr>\n",
       "  </thead>\n",
       "  <tbody>\n",
       "    <tr>\n",
       "      <th>STORE110</th>\n",
       "      <td>12065.0</td>\n",
       "      <td>38.0</td>\n",
       "    </tr>\n",
       "    <tr>\n",
       "      <th>STORE113</th>\n",
       "      <td>2174.0</td>\n",
       "      <td>9.0</td>\n",
       "    </tr>\n",
       "    <tr>\n",
       "      <th>STORE114</th>\n",
       "      <td>5727.0</td>\n",
       "      <td>19.0</td>\n",
       "    </tr>\n",
       "    <tr>\n",
       "      <th>STORE115</th>\n",
       "      <td>2993.0</td>\n",
       "      <td>4727.0</td>\n",
       "    </tr>\n",
       "    <tr>\n",
       "      <th>STORE127</th>\n",
       "      <td>2428.0</td>\n",
       "      <td>5935.0</td>\n",
       "    </tr>\n",
       "    <tr>\n",
       "      <th>STORE133</th>\n",
       "      <td>2710.0</td>\n",
       "      <td>27.0</td>\n",
       "    </tr>\n",
       "    <tr>\n",
       "      <th>STORE136</th>\n",
       "      <td>1857.0</td>\n",
       "      <td>22.0</td>\n",
       "    </tr>\n",
       "    <tr>\n",
       "      <th>STORE143</th>\n",
       "      <td>2178.0</td>\n",
       "      <td>30.0</td>\n",
       "    </tr>\n",
       "    <tr>\n",
       "      <th>STORE149</th>\n",
       "      <td>7412.0</td>\n",
       "      <td>5502.0</td>\n",
       "    </tr>\n",
       "    <tr>\n",
       "      <th>STORE196</th>\n",
       "      <td>1237.0</td>\n",
       "      <td>16.0</td>\n",
       "    </tr>\n",
       "  </tbody>\n",
       "</table>\n",
       "</div>"
      ],
      "text/plain": [
       "            SALES   COUNT\n",
       "STORES                   \n",
       "STORE110  12065.0    38.0\n",
       "STORE113   2174.0     9.0\n",
       "STORE114   5727.0    19.0\n",
       "STORE115   2993.0  4727.0\n",
       "STORE127   2428.0  5935.0\n",
       "STORE133   2710.0    27.0\n",
       "STORE136   1857.0    22.0\n",
       "STORE143   2178.0    30.0\n",
       "STORE149   7412.0  5502.0\n",
       "STORE196   1237.0    16.0"
      ]
     },
     "execution_count": 28,
     "metadata": {},
     "output_type": "execute_result"
    }
   ],
   "source": [
    "#Non zero sales and count for each store\n",
    "df_non_zero_sales=salesdata[salesdata['SALES']>0]\n",
    "df_non_zero_sales.groupby(by=['STORES']).sum()"
   ]
  },
  {
   "cell_type": "code",
   "execution_count": 29,
   "metadata": {},
   "outputs": [
    {
     "name": "stdout",
     "output_type": "stream",
     "text": [
      "SALES    7\n",
      "COUNT    1\n",
      "dtype: int64\n"
     ]
    }
   ],
   "source": [
    "#total number of rows where either sales is 0 or count is 0\n",
    "print((salesdata[['SALES','COUNT']] == 0).sum())"
   ]
  },
  {
   "cell_type": "markdown",
   "metadata": {},
   "source": [
    "Let's have a look at the rows where these values are 0"
   ]
  },
  {
   "cell_type": "code",
   "execution_count": 30,
   "metadata": {},
   "outputs": [
    {
     "data": {
      "text/html": [
       "<div>\n",
       "<style scoped>\n",
       "    .dataframe tbody tr th:only-of-type {\n",
       "        vertical-align: middle;\n",
       "    }\n",
       "\n",
       "    .dataframe tbody tr th {\n",
       "        vertical-align: top;\n",
       "    }\n",
       "\n",
       "    .dataframe thead th {\n",
       "        text-align: right;\n",
       "    }\n",
       "</style>\n",
       "<table border=\"1\" class=\"dataframe\">\n",
       "  <thead>\n",
       "    <tr style=\"text-align: right;\">\n",
       "      <th></th>\n",
       "      <th>STORES</th>\n",
       "      <th>DATES</th>\n",
       "      <th>SALES</th>\n",
       "      <th>COUNT</th>\n",
       "    </tr>\n",
       "  </thead>\n",
       "  <tbody>\n",
       "    <tr>\n",
       "      <th>5</th>\n",
       "      <td>STORE113</td>\n",
       "      <td>2018-01-07</td>\n",
       "      <td>0.0</td>\n",
       "      <td>10.0</td>\n",
       "    </tr>\n",
       "    <tr>\n",
       "      <th>6</th>\n",
       "      <td>STORE113</td>\n",
       "      <td>2018-01-02</td>\n",
       "      <td>0.0</td>\n",
       "      <td>4209.0</td>\n",
       "    </tr>\n",
       "    <tr>\n",
       "      <th>11</th>\n",
       "      <td>STORE114</td>\n",
       "      <td>2018-01-06</td>\n",
       "      <td>0.0</td>\n",
       "      <td>4.0</td>\n",
       "    </tr>\n",
       "    <tr>\n",
       "      <th>35</th>\n",
       "      <td>STORE143</td>\n",
       "      <td>2018-01-02</td>\n",
       "      <td>0.0</td>\n",
       "      <td>8.0</td>\n",
       "    </tr>\n",
       "    <tr>\n",
       "      <th>44</th>\n",
       "      <td>STORE149</td>\n",
       "      <td>2018-01-01</td>\n",
       "      <td>0.0</td>\n",
       "      <td>5.0</td>\n",
       "    </tr>\n",
       "    <tr>\n",
       "      <th>48</th>\n",
       "      <td>STORE196</td>\n",
       "      <td>2018-01-06</td>\n",
       "      <td>0.0</td>\n",
       "      <td>9.0</td>\n",
       "    </tr>\n",
       "    <tr>\n",
       "      <th>49</th>\n",
       "      <td>STORE196</td>\n",
       "      <td>2018-01-06</td>\n",
       "      <td>0.0</td>\n",
       "      <td>3.0</td>\n",
       "    </tr>\n",
       "  </tbody>\n",
       "</table>\n",
       "</div>"
      ],
      "text/plain": [
       "      STORES      DATES  SALES   COUNT\n",
       "5   STORE113 2018-01-07    0.0    10.0\n",
       "6   STORE113 2018-01-02    0.0  4209.0\n",
       "11  STORE114 2018-01-06    0.0     4.0\n",
       "35  STORE143 2018-01-02    0.0     8.0\n",
       "44  STORE149 2018-01-01    0.0     5.0\n",
       "48  STORE196 2018-01-06    0.0     9.0\n",
       "49  STORE196 2018-01-06    0.0     3.0"
      ]
     },
     "execution_count": 30,
     "metadata": {},
     "output_type": "execute_result"
    }
   ],
   "source": [
    "salesdata[salesdata['SALES']==0]"
   ]
  },
  {
   "cell_type": "code",
   "execution_count": 31,
   "metadata": {},
   "outputs": [
    {
     "data": {
      "text/html": [
       "<div>\n",
       "<style scoped>\n",
       "    .dataframe tbody tr th:only-of-type {\n",
       "        vertical-align: middle;\n",
       "    }\n",
       "\n",
       "    .dataframe tbody tr th {\n",
       "        vertical-align: top;\n",
       "    }\n",
       "\n",
       "    .dataframe thead th {\n",
       "        text-align: right;\n",
       "    }\n",
       "</style>\n",
       "<table border=\"1\" class=\"dataframe\">\n",
       "  <thead>\n",
       "    <tr style=\"text-align: right;\">\n",
       "      <th></th>\n",
       "      <th>STORES</th>\n",
       "      <th>DATES</th>\n",
       "      <th>SALES</th>\n",
       "      <th>COUNT</th>\n",
       "    </tr>\n",
       "  </thead>\n",
       "  <tbody>\n",
       "    <tr>\n",
       "      <th>24</th>\n",
       "      <td>STORE127</td>\n",
       "      <td>2018-01-06</td>\n",
       "      <td>518.0</td>\n",
       "      <td>0.0</td>\n",
       "    </tr>\n",
       "  </tbody>\n",
       "</table>\n",
       "</div>"
      ],
      "text/plain": [
       "      STORES      DATES  SALES  COUNT\n",
       "24  STORE127 2018-01-06  518.0    0.0"
      ]
     },
     "execution_count": 31,
     "metadata": {},
     "output_type": "execute_result"
    }
   ],
   "source": [
    "salesdata[salesdata['COUNT']==0]"
   ]
  },
  {
   "cell_type": "markdown",
   "metadata": {},
   "source": [
    "Since, Count is the number of items sold (a discrete variable associated with each store),we can't have COUNT=0 if we have corresponding 'SALES' values non-zero and vice versa. So, I am going to replace zeros's with NA's."
   ]
  },
  {
   "cell_type": "code",
   "execution_count": 32,
   "metadata": {},
   "outputs": [],
   "source": [
    "# mark zero values as missing or NaN\n",
    "salesdata[['SALES','COUNT']] = salesdata[['SALES','COUNT']].replace(0, np.NaN)"
   ]
  },
  {
   "cell_type": "code",
   "execution_count": 33,
   "metadata": {},
   "outputs": [
    {
     "data": {
      "text/plain": [
       "STORES    0\n",
       "DATES     0\n",
       "SALES     9\n",
       "COUNT     3\n",
       "dtype: int64"
      ]
     },
     "execution_count": 33,
     "metadata": {},
     "output_type": "execute_result"
    }
   ],
   "source": [
    "salesdata.isna().sum()"
   ]
  },
  {
   "cell_type": "markdown",
   "metadata": {},
   "source": [
    "Now we compute mean and median to evalute them to be suitable candidate for NA's substitution"
   ]
  },
  {
   "cell_type": "code",
   "execution_count": 34,
   "metadata": {},
   "outputs": [
    {
     "data": {
      "text/plain": [
       "510.0"
      ]
     },
     "execution_count": 34,
     "metadata": {},
     "output_type": "execute_result"
    }
   ],
   "source": [
    "np.nanmedian(salesdata['SALES'])"
   ]
  },
  {
   "cell_type": "code",
   "execution_count": 35,
   "metadata": {},
   "outputs": [
    {
     "data": {
      "text/plain": [
       "7.0"
      ]
     },
     "execution_count": 35,
     "metadata": {},
     "output_type": "execute_result"
    }
   ],
   "source": [
    "np.nanmedian(salesdata['COUNT'])"
   ]
  },
  {
   "cell_type": "code",
   "execution_count": 36,
   "metadata": {},
   "outputs": [
    {
     "data": {
      "text/plain": [
       "994.6585365853658"
      ]
     },
     "execution_count": 36,
     "metadata": {},
     "output_type": "execute_result"
    }
   ],
   "source": [
    "np.mean(salesdata['SALES'])"
   ]
  },
  {
   "cell_type": "code",
   "execution_count": 37,
   "metadata": {},
   "outputs": [
    {
     "data": {
      "text/plain": [
       "438.0425531914894"
      ]
     },
     "execution_count": 37,
     "metadata": {},
     "output_type": "execute_result"
    }
   ],
   "source": [
    "np.mean(salesdata['COUNT'])"
   ]
  },
  {
   "cell_type": "markdown",
   "metadata": {},
   "source": [
    "From data and above computation we can see that median is the better candidate for NA's substitution"
   ]
  },
  {
   "cell_type": "code",
   "execution_count": 38,
   "metadata": {},
   "outputs": [],
   "source": [
    "def impute_(df,colname):\n",
    "    df.loc[df[f'{colname}'].isna(),f'{colname}']=np.nanmedian(df[f'{colname}'])"
   ]
  },
  {
   "cell_type": "code",
   "execution_count": 39,
   "metadata": {},
   "outputs": [],
   "source": [
    "impute_(salesdata,'SALES') "
   ]
  },
  {
   "cell_type": "code",
   "execution_count": 40,
   "metadata": {},
   "outputs": [],
   "source": [
    "impute_(salesdata,'COUNT')"
   ]
  },
  {
   "cell_type": "code",
   "execution_count": 41,
   "metadata": {},
   "outputs": [
    {
     "data": {
      "text/plain": [
       "STORES    0\n",
       "DATES     0\n",
       "SALES     0\n",
       "COUNT     0\n",
       "dtype: int64"
      ]
     },
     "execution_count": 41,
     "metadata": {},
     "output_type": "execute_result"
    }
   ],
   "source": [
    "salesdata.isna().sum()"
   ]
  },
  {
   "cell_type": "markdown",
   "metadata": {},
   "source": [
    "Now the data set does not have any NAs"
   ]
  },
  {
   "cell_type": "markdown",
   "metadata": {},
   "source": [
    "Let's plot scatterplot to get some insights"
   ]
  },
  {
   "cell_type": "code",
   "execution_count": 42,
   "metadata": {},
   "outputs": [
    {
     "data": {
      "text/plain": [
       "<matplotlib.collections.PathCollection at 0x1e92918fb38>"
      ]
     },
     "execution_count": 42,
     "metadata": {},
     "output_type": "execute_result"
    },
    {
     "data": {
      "image/png": "[encoded data removed]",
      "text/plain": [
       "<Figure size 432x288 with 1 Axes>"
      ]
     },
     "metadata": {
      "needs_background": "light"
     },
     "output_type": "display_data"
    }
   ],
   "source": [
    "plt.scatter(salesdata['COUNT'],salesdata['SALES'])"
   ]
  },
  {
   "cell_type": "markdown",
   "metadata": {},
   "source": [
    "It does not provide with valueable insights"
   ]
  },
  {
   "cell_type": "markdown",
   "metadata": {},
   "source": [
    "Box plots are quick to visualize outliers,so lets plot them"
   ]
  },
  {
   "cell_type": "code",
   "execution_count": 43,
   "metadata": {},
   "outputs": [
    {
     "name": "stdout",
     "output_type": "stream",
     "text": [
      "Number Of Outliers: 4\n"
     ]
    },
    {
     "data": {
      "image/png": "[encoded data removed]",
      "text/plain": [
       "<Figure size 432x288 with 1 Axes>"
      ]
     },
     "metadata": {
      "needs_background": "light"
     },
     "output_type": "display_data"
    },
    {
     "name": "stdout",
     "output_type": "stream",
     "text": [
      "Number Of Outliers: 4\n"
     ]
    },
    {
     "data": {
      "image/png": "[encoded data removed]",
      "text/plain": [
       "<Figure size 432x288 with 1 Axes>"
      ]
     },
     "metadata": {
      "needs_background": "light"
     },
     "output_type": "display_data"
    },
    {
     "data": {
      "text/plain": [
       "<Figure size 432x288 with 0 Axes>"
      ]
     },
     "metadata": {},
     "output_type": "display_data"
    }
   ],
   "source": [
    "for i in salesdata[[\"SALES\",\"COUNT\"]]:\n",
    "    _,bp=salesdata.boxplot(column =[f'{i}'], grid = False,return_type='both')\n",
    "    outliers = [flier.get_ydata() for flier in bp[\"fliers\"]]\n",
    "    print(\"Number Of Outliers:\", len(outliers[0]))\n",
    "    plt.show()\n",
    "    plt.clf()"
   ]
  },
  {
   "cell_type": "markdown",
   "metadata": {},
   "source": [
    "From above box plots we can see that we have 4 outliers for each 'SALES' and 'COUNT' "
   ]
  },
  {
   "cell_type": "code",
   "execution_count": 44,
   "metadata": {},
   "outputs": [
    {
     "name": "stdout",
     "output_type": "stream",
     "text": [
      "SALES    378.5\n",
      "COUNT      5.0\n",
      "dtype: float64\n"
     ]
    }
   ],
   "source": [
    "Q1 = salesdata.quantile(0.25)\n",
    "Q3 = salesdata.quantile(0.75)\n",
    "IQR = Q3 - Q1\n",
    "print(IQR)"
   ]
  },
  {
   "cell_type": "markdown",
   "metadata": {},
   "source": [
    "#### IQR "
   ]
  },
  {
   "cell_type": "code",
   "execution_count": 45,
   "metadata": {},
   "outputs": [
    {
     "data": {
      "text/plain": [
       "(-197.75, 1316.25, -3.5, 16.5)"
      ]
     },
     "execution_count": 45,
     "metadata": {},
     "output_type": "execute_result"
    }
   ],
   "source": [
    "Q1[\"SALES\"]-1.5*IQR[\"SALES\"], Q3[\"SALES\"]+1.5*IQR[\"SALES\"], Q1[\"COUNT\"]-1.5*IQR[\"COUNT\"], Q3[\"COUNT\"]+1.5*IQR[\"COUNT\"]"
   ]
  },
  {
   "cell_type": "code",
   "execution_count": 46,
   "metadata": {},
   "outputs": [],
   "source": [
    "temp = salesdata.apply(lambda x: True if (x['SALES'] >= (Q1[\"SALES\"]-1.5*IQR[\"SALES\"])) and (x['SALES'] <= (Q3[\"SALES\"]+1.5*IQR[\"SALES\"]))\n",
    "                        and (x['COUNT'] >= (Q1[\"COUNT\"]-1.5*IQR[\"COUNT\"])) and (x['COUNT'] <= (Q3[\"COUNT\"]+1.5*IQR[\"COUNT\"])) else False\n",
    "                ,axis=1)\n"
   ]
  },
  {
   "cell_type": "markdown",
   "metadata": {},
   "source": [
    "##### Outliers"
   ]
  },
  {
   "cell_type": "code",
   "execution_count": 47,
   "metadata": {},
   "outputs": [
    {
     "data": {
      "text/html": [
       "<div>\n",
       "<style scoped>\n",
       "    .dataframe tbody tr th:only-of-type {\n",
       "        vertical-align: middle;\n",
       "    }\n",
       "\n",
       "    .dataframe tbody tr th {\n",
       "        vertical-align: top;\n",
       "    }\n",
       "\n",
       "    .dataframe thead th {\n",
       "        text-align: right;\n",
       "    }\n",
       "</style>\n",
       "<table border=\"1\" class=\"dataframe\">\n",
       "  <thead>\n",
       "    <tr style=\"text-align: right;\">\n",
       "      <th></th>\n",
       "      <th>STORES</th>\n",
       "      <th>DATES</th>\n",
       "      <th>SALES</th>\n",
       "      <th>COUNT</th>\n",
       "    </tr>\n",
       "  </thead>\n",
       "  <tbody>\n",
       "    <tr>\n",
       "      <th>2</th>\n",
       "      <td>STORE110</td>\n",
       "      <td>2018-01-05</td>\n",
       "      <td>5589.0</td>\n",
       "      <td>9.0</td>\n",
       "    </tr>\n",
       "    <tr>\n",
       "      <th>3</th>\n",
       "      <td>STORE110</td>\n",
       "      <td>2018-01-06</td>\n",
       "      <td>5541.0</td>\n",
       "      <td>10.0</td>\n",
       "    </tr>\n",
       "    <tr>\n",
       "      <th>6</th>\n",
       "      <td>STORE113</td>\n",
       "      <td>2018-01-02</td>\n",
       "      <td>510.0</td>\n",
       "      <td>4209.0</td>\n",
       "    </tr>\n",
       "    <tr>\n",
       "      <th>10</th>\n",
       "      <td>STORE114</td>\n",
       "      <td>2018-01-07</td>\n",
       "      <td>4400.0</td>\n",
       "      <td>9.0</td>\n",
       "    </tr>\n",
       "    <tr>\n",
       "      <th>19</th>\n",
       "      <td>STORE115</td>\n",
       "      <td>2018-01-03</td>\n",
       "      <td>580.0</td>\n",
       "      <td>4710.0</td>\n",
       "    </tr>\n",
       "    <tr>\n",
       "      <th>21</th>\n",
       "      <td>STORE127</td>\n",
       "      <td>2018-01-01</td>\n",
       "      <td>759.0</td>\n",
       "      <td>5913.0</td>\n",
       "    </tr>\n",
       "    <tr>\n",
       "      <th>42</th>\n",
       "      <td>STORE149</td>\n",
       "      <td>2018-01-04</td>\n",
       "      <td>277.0</td>\n",
       "      <td>5494.0</td>\n",
       "    </tr>\n",
       "    <tr>\n",
       "      <th>43</th>\n",
       "      <td>STORE149</td>\n",
       "      <td>2018-01-05</td>\n",
       "      <td>6652.0</td>\n",
       "      <td>7.0</td>\n",
       "    </tr>\n",
       "  </tbody>\n",
       "</table>\n",
       "</div>"
      ],
      "text/plain": [
       "      STORES      DATES   SALES   COUNT\n",
       "2   STORE110 2018-01-05  5589.0     9.0\n",
       "3   STORE110 2018-01-06  5541.0    10.0\n",
       "6   STORE113 2018-01-02   510.0  4209.0\n",
       "10  STORE114 2018-01-07  4400.0     9.0\n",
       "19  STORE115 2018-01-03   580.0  4710.0\n",
       "21  STORE127 2018-01-01   759.0  5913.0\n",
       "42  STORE149 2018-01-04   277.0  5494.0\n",
       "43  STORE149 2018-01-05  6652.0     7.0"
      ]
     },
     "execution_count": 47,
     "metadata": {},
     "output_type": "execute_result"
    }
   ],
   "source": [
    "salesdata[~temp]"
   ]
  },
  {
   "cell_type": "code",
   "execution_count": 48,
   "metadata": {},
   "outputs": [
    {
     "data": {
      "text/plain": [
       "50"
      ]
     },
     "execution_count": 48,
     "metadata": {},
     "output_type": "execute_result"
    }
   ],
   "source": [
    "len(salesdata)"
   ]
  },
  {
   "cell_type": "markdown",
   "metadata": {},
   "source": [
    "We don't know that these outliers are influential points or not . So, for time being i am not removing them"
   ]
  },
  {
   "cell_type": "markdown",
   "metadata": {},
   "source": [
    "Let's go ahead and do some statstical test"
   ]
  },
  {
   "cell_type": "code",
   "execution_count": 49,
   "metadata": {},
   "outputs": [],
   "source": [
    "from statsmodels.formula.api import ols\n",
    "m = ols('SALES~COUNT ',salesdata).fit()\n",
    "infl = m.get_influence()\n",
    "sm_fr = infl.summary_frame()"
   ]
  },
  {
   "cell_type": "code",
   "execution_count": 50,
   "metadata": {},
   "outputs": [
    {
     "data": {
      "text/html": [
       "<table class=\"simpletable\">\n",
       "<caption>OLS Regression Results</caption>\n",
       "<tr>\n",
       "  <th>Dep. Variable:</th>          <td>SALES</td>      <th>  R-squared:         </th> <td>   0.006</td>\n",
       "</tr>\n",
       "<tr>\n",
       "  <th>Model:</th>                   <td>OLS</td>       <th>  Adj. R-squared:    </th> <td>  -0.015</td>\n",
       "</tr>\n",
       "<tr>\n",
       "  <th>Method:</th>             <td>Least Squares</td>  <th>  F-statistic:       </th> <td>  0.2835</td>\n",
       "</tr>\n",
       "<tr>\n",
       "  <th>Date:</th>             <td>Sun, 02 Jun 2019</td> <th>  Prob (F-statistic):</th>  <td> 0.597</td> \n",
       "</tr>\n",
       "<tr>\n",
       "  <th>Time:</th>                 <td>12:33:35</td>     <th>  Log-Likelihood:    </th> <td> -433.36</td>\n",
       "</tr>\n",
       "<tr>\n",
       "  <th>No. Observations:</th>      <td>    50</td>      <th>  AIC:               </th> <td>   870.7</td>\n",
       "</tr>\n",
       "<tr>\n",
       "  <th>Df Residuals:</th>          <td>    48</td>      <th>  BIC:               </th> <td>   874.5</td>\n",
       "</tr>\n",
       "<tr>\n",
       "  <th>Df Model:</th>              <td>     1</td>      <th>                     </th>     <td> </td>   \n",
       "</tr>\n",
       "<tr>\n",
       "  <th>Covariance Type:</th>      <td>nonrobust</td>    <th>                     </th>     <td> </td>   \n",
       "</tr>\n",
       "</table>\n",
       "<table class=\"simpletable\">\n",
       "<tr>\n",
       "      <td></td>         <th>coef</th>     <th>std err</th>      <th>t</th>      <th>P>|t|</th>  <th>[0.025</th>    <th>0.975]</th>  \n",
       "</tr>\n",
       "<tr>\n",
       "  <th>Intercept</th> <td>  939.4640</td> <td>  211.629</td> <td>    4.439</td> <td> 0.000</td> <td>  513.955</td> <td> 1364.973</td>\n",
       "</tr>\n",
       "<tr>\n",
       "  <th>COUNT</th>     <td>   -0.0777</td> <td>    0.146</td> <td>   -0.532</td> <td> 0.597</td> <td>   -0.371</td> <td>    0.216</td>\n",
       "</tr>\n",
       "</table>\n",
       "<table class=\"simpletable\">\n",
       "<tr>\n",
       "  <th>Omnibus:</th>       <td>52.796</td> <th>  Durbin-Watson:     </th> <td>   1.733</td>\n",
       "</tr>\n",
       "<tr>\n",
       "  <th>Prob(Omnibus):</th> <td> 0.000</td> <th>  Jarque-Bera (JB):  </th> <td> 206.161</td>\n",
       "</tr>\n",
       "<tr>\n",
       "  <th>Skew:</th>          <td> 3.014</td> <th>  Prob(JB):          </th> <td>1.71e-45</td>\n",
       "</tr>\n",
       "<tr>\n",
       "  <th>Kurtosis:</th>      <td>10.914</td> <th>  Cond. No.          </th> <td>1.51e+03</td>\n",
       "</tr>\n",
       "</table><br/><br/>Warnings:<br/>[1] Standard Errors assume that the covariance matrix of the errors is correctly specified.<br/>[2] The condition number is large, 1.51e+03. This might indicate that there are<br/>strong multicollinearity or other numerical problems."
      ],
      "text/plain": [
       "<class 'statsmodels.iolib.summary.Summary'>\n",
       "\"\"\"\n",
       "                            OLS Regression Results                            \n",
       "==============================================================================\n",
       "Dep. Variable:                  SALES   R-squared:                       0.006\n",
       "Model:                            OLS   Adj. R-squared:                 -0.015\n",
       "Method:                 Least Squares   F-statistic:                    0.2835\n",
       "Date:                Sun, 02 Jun 2019   Prob (F-statistic):              0.597\n",
       "Time:                        12:33:35   Log-Likelihood:                -433.36\n",
       "No. Observations:                  50   AIC:                             870.7\n",
       "Df Residuals:                      48   BIC:                             874.5\n",
       "Df Model:                           1                                         \n",
       "Covariance Type:            nonrobust                                         \n",
       "==============================================================================\n",
       "                 coef    std err          t      P>|t|      [0.025      0.975]\n",
       "------------------------------------------------------------------------------\n",
       "Intercept    939.4640    211.629      4.439      0.000     513.955    1364.973\n",
       "COUNT         -0.0777      0.146     -0.532      0.597      -0.371       0.216\n",
       "==============================================================================\n",
       "Omnibus:                       52.796   Durbin-Watson:                   1.733\n",
       "Prob(Omnibus):                  0.000   Jarque-Bera (JB):              206.161\n",
       "Skew:                           3.014   Prob(JB):                     1.71e-45\n",
       "Kurtosis:                      10.914   Cond. No.                     1.51e+03\n",
       "==============================================================================\n",
       "\n",
       "Warnings:\n",
       "[1] Standard Errors assume that the covariance matrix of the errors is correctly specified.\n",
       "[2] The condition number is large, 1.51e+03. This might indicate that there are\n",
       "strong multicollinearity or other numerical problems.\n",
       "\"\"\""
      ]
     },
     "execution_count": 50,
     "metadata": {},
     "output_type": "execute_result"
    }
   ],
   "source": [
    "m.summary()"
   ]
  },
  {
   "cell_type": "code",
   "execution_count": 51,
   "metadata": {},
   "outputs": [
    {
     "data": {
      "text/html": [
       "<div>\n",
       "<style scoped>\n",
       "    .dataframe tbody tr th:only-of-type {\n",
       "        vertical-align: middle;\n",
       "    }\n",
       "\n",
       "    .dataframe tbody tr th {\n",
       "        vertical-align: top;\n",
       "    }\n",
       "\n",
       "    .dataframe thead th {\n",
       "        text-align: right;\n",
       "    }\n",
       "</style>\n",
       "<table border=\"1\" class=\"dataframe\">\n",
       "  <thead>\n",
       "    <tr style=\"text-align: right;\">\n",
       "      <th></th>\n",
       "      <th>dfb_Intercept</th>\n",
       "      <th>dfb_COUNT</th>\n",
       "      <th>cooks_d</th>\n",
       "      <th>standard_resid</th>\n",
       "      <th>hat_diag</th>\n",
       "      <th>dffits_internal</th>\n",
       "      <th>student_resid</th>\n",
       "      <th>dffits</th>\n",
       "    </tr>\n",
       "  </thead>\n",
       "  <tbody>\n",
       "    <tr>\n",
       "      <th>0</th>\n",
       "      <td>-0.032679</td>\n",
       "      <td>0.009085</td>\n",
       "      <td>5.447805e-04</td>\n",
       "      <td>-0.221761</td>\n",
       "      <td>0.021675</td>\n",
       "      <td>-0.033008</td>\n",
       "      <td>-0.219552</td>\n",
       "      <td>-0.032680</td>\n",
       "    </tr>\n",
       "    <tr>\n",
       "      <th>1</th>\n",
       "      <td>-0.069618</td>\n",
       "      <td>0.019664</td>\n",
       "      <td>2.463470e-03</td>\n",
       "      <td>-0.470920</td>\n",
       "      <td>0.021734</td>\n",
       "      <td>-0.070192</td>\n",
       "      <td>-0.467069</td>\n",
       "      <td>-0.069618</td>\n",
       "    </tr>\n",
       "    <tr>\n",
       "      <th>2</th>\n",
       "      <td>0.547929</td>\n",
       "      <td>-0.152679</td>\n",
       "      <td>1.190117e-01</td>\n",
       "      <td>3.277059</td>\n",
       "      <td>0.021684</td>\n",
       "      <td>0.487876</td>\n",
       "      <td>3.680499</td>\n",
       "      <td>0.547939</td>\n",
       "    </tr>\n",
       "    <tr>\n",
       "      <th>3</th>\n",
       "      <td>0.540576</td>\n",
       "      <td>-0.150286</td>\n",
       "      <td>1.165246e-01</td>\n",
       "      <td>3.243274</td>\n",
       "      <td>0.021675</td>\n",
       "      <td>0.482752</td>\n",
       "      <td>3.631834</td>\n",
       "      <td>0.540588</td>\n",
       "    </tr>\n",
       "    <tr>\n",
       "      <th>4</th>\n",
       "      <td>-0.093779</td>\n",
       "      <td>0.026310</td>\n",
       "      <td>4.453304e-03</td>\n",
       "      <td>-0.633539</td>\n",
       "      <td>0.021709</td>\n",
       "      <td>-0.094375</td>\n",
       "      <td>-0.629543</td>\n",
       "      <td>-0.093779</td>\n",
       "    </tr>\n",
       "    <tr>\n",
       "      <th>5</th>\n",
       "      <td>-0.044537</td>\n",
       "      <td>0.012382</td>\n",
       "      <td>1.010985e-03</td>\n",
       "      <td>-0.302098</td>\n",
       "      <td>0.021675</td>\n",
       "      <td>-0.044966</td>\n",
       "      <td>-0.299219</td>\n",
       "      <td>-0.044538</td>\n",
       "    </tr>\n",
       "    <tr>\n",
       "      <th>6</th>\n",
       "      <td>-0.002182</td>\n",
       "      <td>-0.032805</td>\n",
       "      <td>6.230546e-04</td>\n",
       "      <td>-0.078193</td>\n",
       "      <td>0.169302</td>\n",
       "      <td>-0.035300</td>\n",
       "      <td>-0.077379</td>\n",
       "      <td>-0.034933</td>\n",
       "    </tr>\n",
       "    <tr>\n",
       "      <th>7</th>\n",
       "      <td>-0.004286</td>\n",
       "      <td>0.001211</td>\n",
       "      <td>9.378588e-06</td>\n",
       "      <td>-0.029056</td>\n",
       "      <td>0.021734</td>\n",
       "      <td>-0.004331</td>\n",
       "      <td>-0.028752</td>\n",
       "      <td>-0.004286</td>\n",
       "    </tr>\n",
       "    <tr>\n",
       "      <th>8</th>\n",
       "      <td>-0.013204</td>\n",
       "      <td>0.003713</td>\n",
       "      <td>8.901507e-05</td>\n",
       "      <td>-0.089553</td>\n",
       "      <td>0.021717</td>\n",
       "      <td>-0.013343</td>\n",
       "      <td>-0.088622</td>\n",
       "      <td>-0.013204</td>\n",
       "    </tr>\n",
       "    <tr>\n",
       "      <th>9</th>\n",
       "      <td>-0.049491</td>\n",
       "      <td>0.014042</td>\n",
       "      <td>1.247792e-03</td>\n",
       "      <td>-0.335020</td>\n",
       "      <td>0.021751</td>\n",
       "      <td>-0.049956</td>\n",
       "      <td>-0.331900</td>\n",
       "      <td>-0.049491</td>\n",
       "    </tr>\n",
       "    <tr>\n",
       "      <th>10</th>\n",
       "      <td>0.383903</td>\n",
       "      <td>-0.106974</td>\n",
       "      <td>6.593286e-02</td>\n",
       "      <td>2.439161</td>\n",
       "      <td>0.021684</td>\n",
       "      <td>0.363133</td>\n",
       "      <td>2.578718</td>\n",
       "      <td>0.383910</td>\n",
       "    </tr>\n",
       "    <tr>\n",
       "      <th>11</th>\n",
       "      <td>-0.044640</td>\n",
       "      <td>0.012581</td>\n",
       "      <td>1.015645e-03</td>\n",
       "      <td>-0.302434</td>\n",
       "      <td>0.021726</td>\n",
       "      <td>-0.045070</td>\n",
       "      <td>-0.299553</td>\n",
       "      <td>-0.044640</td>\n",
       "    </tr>\n",
       "    <tr>\n",
       "      <th>12</th>\n",
       "      <td>-0.060583</td>\n",
       "      <td>0.017035</td>\n",
       "      <td>1.867668e-03</td>\n",
       "      <td>-0.410200</td>\n",
       "      <td>0.021717</td>\n",
       "      <td>-0.061117</td>\n",
       "      <td>-0.406618</td>\n",
       "      <td>-0.060584</td>\n",
       "    </tr>\n",
       "    <tr>\n",
       "      <th>13</th>\n",
       "      <td>0.003213</td>\n",
       "      <td>-0.000903</td>\n",
       "      <td>5.271719e-06</td>\n",
       "      <td>0.021793</td>\n",
       "      <td>0.021717</td>\n",
       "      <td>0.003247</td>\n",
       "      <td>0.021565</td>\n",
       "      <td>0.003213</td>\n",
       "    </tr>\n",
       "    <tr>\n",
       "      <th>14</th>\n",
       "      <td>-0.044606</td>\n",
       "      <td>0.012514</td>\n",
       "      <td>1.014086e-03</td>\n",
       "      <td>-0.302322</td>\n",
       "      <td>0.021709</td>\n",
       "      <td>-0.045035</td>\n",
       "      <td>-0.299441</td>\n",
       "      <td>-0.044606</td>\n",
       "    </tr>\n",
       "    <tr>\n",
       "      <th>15</th>\n",
       "      <td>-0.053675</td>\n",
       "      <td>0.015059</td>\n",
       "      <td>1.467103e-03</td>\n",
       "      <td>-0.363632</td>\n",
       "      <td>0.021709</td>\n",
       "      <td>-0.054168</td>\n",
       "      <td>-0.360321</td>\n",
       "      <td>-0.053675</td>\n",
       "    </tr>\n",
       "    <tr>\n",
       "      <th>16</th>\n",
       "      <td>-0.064302</td>\n",
       "      <td>0.017999</td>\n",
       "      <td>2.103071e-03</td>\n",
       "      <td>-0.435457</td>\n",
       "      <td>0.021700</td>\n",
       "      <td>-0.064855</td>\n",
       "      <td>-0.431751</td>\n",
       "      <td>-0.064303</td>\n",
       "    </tr>\n",
       "    <tr>\n",
       "      <th>17</th>\n",
       "      <td>0.025655</td>\n",
       "      <td>-0.007263</td>\n",
       "      <td>3.358765e-04</td>\n",
       "      <td>0.173851</td>\n",
       "      <td>0.021743</td>\n",
       "      <td>0.025918</td>\n",
       "      <td>0.172084</td>\n",
       "      <td>0.025655</td>\n",
       "    </tr>\n",
       "    <tr>\n",
       "      <th>18</th>\n",
       "      <td>-0.047366</td>\n",
       "      <td>0.013198</td>\n",
       "      <td>1.143195e-03</td>\n",
       "      <td>-0.321181</td>\n",
       "      <td>0.021684</td>\n",
       "      <td>-0.047816</td>\n",
       "      <td>-0.318160</td>\n",
       "      <td>-0.047366</td>\n",
       "    </tr>\n",
       "    <tr>\n",
       "      <th>19</th>\n",
       "      <td>0.000066</td>\n",
       "      <td>0.002564</td>\n",
       "      <td>3.709159e-06</td>\n",
       "      <td>0.005262</td>\n",
       "      <td>0.211303</td>\n",
       "      <td>0.002724</td>\n",
       "      <td>0.005207</td>\n",
       "      <td>0.002695</td>\n",
       "    </tr>\n",
       "    <tr>\n",
       "      <th>20</th>\n",
       "      <td>-0.078982</td>\n",
       "      <td>0.021958</td>\n",
       "      <td>3.166576e-03</td>\n",
       "      <td>-0.534650</td>\n",
       "      <td>0.021675</td>\n",
       "      <td>-0.079581</td>\n",
       "      <td>-0.530634</td>\n",
       "      <td>-0.078983</td>\n",
       "    </tr>\n",
       "    <tr>\n",
       "      <th>21</th>\n",
       "      <td>-0.006824</td>\n",
       "      <td>0.161831</td>\n",
       "      <td>1.420986e-02</td>\n",
       "      <td>0.238382</td>\n",
       "      <td>0.333387</td>\n",
       "      <td>0.168582</td>\n",
       "      <td>0.236025</td>\n",
       "      <td>0.166915</td>\n",
       "    </tr>\n",
       "    <tr>\n",
       "      <th>22</th>\n",
       "      <td>0.000296</td>\n",
       "      <td>-0.000083</td>\n",
       "      <td>4.469714e-08</td>\n",
       "      <td>0.002006</td>\n",
       "      <td>0.021726</td>\n",
       "      <td>0.000299</td>\n",
       "      <td>0.001985</td>\n",
       "      <td>0.000296</td>\n",
       "    </tr>\n",
       "    <tr>\n",
       "      <th>23</th>\n",
       "      <td>-0.094881</td>\n",
       "      <td>0.026499</td>\n",
       "      <td>4.557708e-03</td>\n",
       "      <td>-0.641176</td>\n",
       "      <td>0.021692</td>\n",
       "      <td>-0.095475</td>\n",
       "      <td>-0.637196</td>\n",
       "      <td>-0.094882</td>\n",
       "    </tr>\n",
       "    <tr>\n",
       "      <th>24</th>\n",
       "      <td>-0.043755</td>\n",
       "      <td>0.012248</td>\n",
       "      <td>9.758620e-04</td>\n",
       "      <td>-0.296628</td>\n",
       "      <td>0.021700</td>\n",
       "      <td>-0.044178</td>\n",
       "      <td>-0.293791</td>\n",
       "      <td>-0.043756</td>\n",
       "    </tr>\n",
       "    <tr>\n",
       "      <th>25</th>\n",
       "      <td>-0.086054</td>\n",
       "      <td>0.024252</td>\n",
       "      <td>3.754798e-03</td>\n",
       "      <td>-0.581505</td>\n",
       "      <td>0.021726</td>\n",
       "      <td>-0.086658</td>\n",
       "      <td>-0.577453</td>\n",
       "      <td>-0.086054</td>\n",
       "    </tr>\n",
       "    <tr>\n",
       "      <th>26</th>\n",
       "      <td>-0.014046</td>\n",
       "      <td>0.003959</td>\n",
       "      <td>1.007324e-04</td>\n",
       "      <td>-0.095246</td>\n",
       "      <td>0.021726</td>\n",
       "      <td>-0.014194</td>\n",
       "      <td>-0.094257</td>\n",
       "      <td>-0.014047</td>\n",
       "    </tr>\n",
       "    <tr>\n",
       "      <th>27</th>\n",
       "      <td>-0.078273</td>\n",
       "      <td>0.021810</td>\n",
       "      <td>3.110305e-03</td>\n",
       "      <td>-0.529775</td>\n",
       "      <td>0.021684</td>\n",
       "      <td>-0.078871</td>\n",
       "      <td>-0.525766</td>\n",
       "      <td>-0.078274</td>\n",
       "    </tr>\n",
       "    <tr>\n",
       "      <th>28</th>\n",
       "      <td>-0.024977</td>\n",
       "      <td>0.007055</td>\n",
       "      <td>3.183843e-04</td>\n",
       "      <td>-0.169297</td>\n",
       "      <td>0.021734</td>\n",
       "      <td>-0.025234</td>\n",
       "      <td>-0.167574</td>\n",
       "      <td>-0.024977</td>\n",
       "    </tr>\n",
       "    <tr>\n",
       "      <th>29</th>\n",
       "      <td>-0.003419</td>\n",
       "      <td>0.000957</td>\n",
       "      <td>5.969039e-06</td>\n",
       "      <td>-0.023199</td>\n",
       "      <td>0.021700</td>\n",
       "      <td>-0.003455</td>\n",
       "      <td>-0.022956</td>\n",
       "      <td>-0.003419</td>\n",
       "    </tr>\n",
       "    <tr>\n",
       "      <th>30</th>\n",
       "      <td>-0.044589</td>\n",
       "      <td>0.012481</td>\n",
       "      <td>1.013309e-03</td>\n",
       "      <td>-0.302266</td>\n",
       "      <td>0.021700</td>\n",
       "      <td>-0.045018</td>\n",
       "      <td>-0.299386</td>\n",
       "      <td>-0.044589</td>\n",
       "    </tr>\n",
       "    <tr>\n",
       "      <th>31</th>\n",
       "      <td>-0.082409</td>\n",
       "      <td>0.023068</td>\n",
       "      <td>3.445518e-03</td>\n",
       "      <td>-0.557372</td>\n",
       "      <td>0.021700</td>\n",
       "      <td>-0.083012</td>\n",
       "      <td>-0.553329</td>\n",
       "      <td>-0.082410</td>\n",
       "    </tr>\n",
       "    <tr>\n",
       "      <th>32</th>\n",
       "      <td>-0.082934</td>\n",
       "      <td>0.023215</td>\n",
       "      <td>3.489220e-03</td>\n",
       "      <td>-0.560896</td>\n",
       "      <td>0.021700</td>\n",
       "      <td>-0.083537</td>\n",
       "      <td>-0.556851</td>\n",
       "      <td>-0.082935</td>\n",
       "    </tr>\n",
       "    <tr>\n",
       "      <th>33</th>\n",
       "      <td>-0.044623</td>\n",
       "      <td>0.012548</td>\n",
       "      <td>1.014865e-03</td>\n",
       "      <td>-0.302378</td>\n",
       "      <td>0.021717</td>\n",
       "      <td>-0.045053</td>\n",
       "      <td>-0.299497</td>\n",
       "      <td>-0.044623</td>\n",
       "    </tr>\n",
       "    <tr>\n",
       "      <th>34</th>\n",
       "      <td>-0.040906</td>\n",
       "      <td>0.011554</td>\n",
       "      <td>8.530791e-04</td>\n",
       "      <td>-0.277120</td>\n",
       "      <td>0.021734</td>\n",
       "      <td>-0.041306</td>\n",
       "      <td>-0.274438</td>\n",
       "      <td>-0.040906</td>\n",
       "    </tr>\n",
       "    <tr>\n",
       "      <th>35</th>\n",
       "      <td>-0.044571</td>\n",
       "      <td>0.012448</td>\n",
       "      <td>1.012533e-03</td>\n",
       "      <td>-0.302210</td>\n",
       "      <td>0.021692</td>\n",
       "      <td>-0.045001</td>\n",
       "      <td>-0.299330</td>\n",
       "      <td>-0.044572</td>\n",
       "    </tr>\n",
       "    <tr>\n",
       "      <th>36</th>\n",
       "      <td>-0.023028</td>\n",
       "      <td>0.006417</td>\n",
       "      <td>2.706593e-04</td>\n",
       "      <td>-0.156279</td>\n",
       "      <td>0.021684</td>\n",
       "      <td>-0.023266</td>\n",
       "      <td>-0.154682</td>\n",
       "      <td>-0.023028</td>\n",
       "    </tr>\n",
       "    <tr>\n",
       "      <th>37</th>\n",
       "      <td>-0.053115</td>\n",
       "      <td>0.014834</td>\n",
       "      <td>1.436772e-03</td>\n",
       "      <td>-0.359996</td>\n",
       "      <td>0.021692</td>\n",
       "      <td>-0.053605</td>\n",
       "      <td>-0.356708</td>\n",
       "      <td>-0.053116</td>\n",
       "    </tr>\n",
       "    <tr>\n",
       "      <th>38</th>\n",
       "      <td>0.001951</td>\n",
       "      <td>-0.000551</td>\n",
       "      <td>1.943509e-06</td>\n",
       "      <td>0.013227</td>\n",
       "      <td>0.021734</td>\n",
       "      <td>0.001972</td>\n",
       "      <td>0.013089</td>\n",
       "      <td>0.001951</td>\n",
       "    </tr>\n",
       "    <tr>\n",
       "      <th>39</th>\n",
       "      <td>-0.089992</td>\n",
       "      <td>0.025019</td>\n",
       "      <td>4.103717e-03</td>\n",
       "      <td>-0.608644</td>\n",
       "      <td>0.021675</td>\n",
       "      <td>-0.090595</td>\n",
       "      <td>-0.604609</td>\n",
       "      <td>-0.089994</td>\n",
       "    </tr>\n",
       "    <tr>\n",
       "      <th>40</th>\n",
       "      <td>-0.047508</td>\n",
       "      <td>0.013480</td>\n",
       "      <td>1.150043e-03</td>\n",
       "      <td>-0.321630</td>\n",
       "      <td>0.021751</td>\n",
       "      <td>-0.047959</td>\n",
       "      <td>-0.318606</td>\n",
       "      <td>-0.047508</td>\n",
       "    </tr>\n",
       "    <tr>\n",
       "      <th>41</th>\n",
       "      <td>-0.044554</td>\n",
       "      <td>0.012415</td>\n",
       "      <td>1.011759e-03</td>\n",
       "      <td>-0.302154</td>\n",
       "      <td>0.021684</td>\n",
       "      <td>-0.044984</td>\n",
       "      <td>-0.299275</td>\n",
       "      <td>-0.044555</td>\n",
       "    </tr>\n",
       "    <tr>\n",
       "      <th>42</th>\n",
       "      <td>0.002617</td>\n",
       "      <td>-0.117863</td>\n",
       "      <td>7.618116e-03</td>\n",
       "      <td>-0.194335</td>\n",
       "      <td>0.287464</td>\n",
       "      <td>-0.123435</td>\n",
       "      <td>-0.192376</td>\n",
       "      <td>-0.122191</td>\n",
       "    </tr>\n",
       "    <tr>\n",
       "      <th>43</th>\n",
       "      <td>0.729080</td>\n",
       "      <td>-0.204084</td>\n",
       "      <td>1.797754e-01</td>\n",
       "      <td>4.026089</td>\n",
       "      <td>0.021700</td>\n",
       "      <td>0.599626</td>\n",
       "      <td>4.895341</td>\n",
       "      <td>0.729088</td>\n",
       "    </tr>\n",
       "    <tr>\n",
       "      <th>44</th>\n",
       "      <td>-0.044623</td>\n",
       "      <td>0.012548</td>\n",
       "      <td>1.014865e-03</td>\n",
       "      <td>-0.302378</td>\n",
       "      <td>0.021717</td>\n",
       "      <td>-0.045053</td>\n",
       "      <td>-0.299497</td>\n",
       "      <td>-0.044623</td>\n",
       "    </tr>\n",
       "    <tr>\n",
       "      <th>45</th>\n",
       "      <td>-0.029201</td>\n",
       "      <td>0.008193</td>\n",
       "      <td>4.350812e-04</td>\n",
       "      <td>-0.198024</td>\n",
       "      <td>0.021709</td>\n",
       "      <td>-0.029499</td>\n",
       "      <td>-0.196030</td>\n",
       "      <td>-0.029202</td>\n",
       "    </tr>\n",
       "    <tr>\n",
       "      <th>46</th>\n",
       "      <td>-0.080201</td>\n",
       "      <td>0.022654</td>\n",
       "      <td>3.264432e-03</td>\n",
       "      <td>-0.542097</td>\n",
       "      <td>0.021734</td>\n",
       "      <td>-0.080801</td>\n",
       "      <td>-0.538070</td>\n",
       "      <td>-0.080201</td>\n",
       "    </tr>\n",
       "    <tr>\n",
       "      <th>47</th>\n",
       "      <td>-0.055116</td>\n",
       "      <td>0.015428</td>\n",
       "      <td>1.546714e-03</td>\n",
       "      <td>-0.373442</td>\n",
       "      <td>0.021700</td>\n",
       "      <td>-0.055619</td>\n",
       "      <td>-0.370070</td>\n",
       "      <td>-0.055116</td>\n",
       "    </tr>\n",
       "    <tr>\n",
       "      <th>48</th>\n",
       "      <td>-0.044554</td>\n",
       "      <td>0.012415</td>\n",
       "      <td>1.011759e-03</td>\n",
       "      <td>-0.302154</td>\n",
       "      <td>0.021684</td>\n",
       "      <td>-0.044984</td>\n",
       "      <td>-0.299275</td>\n",
       "      <td>-0.044555</td>\n",
       "    </tr>\n",
       "    <tr>\n",
       "      <th>49</th>\n",
       "      <td>-0.044658</td>\n",
       "      <td>0.012614</td>\n",
       "      <td>1.016427e-03</td>\n",
       "      <td>-0.302490</td>\n",
       "      <td>0.021734</td>\n",
       "      <td>-0.045087</td>\n",
       "      <td>-0.299608</td>\n",
       "      <td>-0.044658</td>\n",
       "    </tr>\n",
       "  </tbody>\n",
       "</table>\n",
       "</div>"
      ],
      "text/plain": [
       "    dfb_Intercept  dfb_COUNT       cooks_d  standard_resid  hat_diag  \\\n",
       "0       -0.032679   0.009085  5.447805e-04       -0.221761  0.021675   \n",
       "1       -0.069618   0.019664  2.463470e-03       -0.470920  0.021734   \n",
       "2        0.547929  -0.152679  1.190117e-01        3.277059  0.021684   \n",
       "3        0.540576  -0.150286  1.165246e-01        3.243274  0.021675   \n",
       "4       -0.093779   0.026310  4.453304e-03       -0.633539  0.021709   \n",
       "5       -0.044537   0.012382  1.010985e-03       -0.302098  0.021675   \n",
       "6       -0.002182  -0.032805  6.230546e-04       -0.078193  0.169302   \n",
       "7       -0.004286   0.001211  9.378588e-06       -0.029056  0.021734   \n",
       "8       -0.013204   0.003713  8.901507e-05       -0.089553  0.021717   \n",
       "9       -0.049491   0.014042  1.247792e-03       -0.335020  0.021751   \n",
       "10       0.383903  -0.106974  6.593286e-02        2.439161  0.021684   \n",
       "11      -0.044640   0.012581  1.015645e-03       -0.302434  0.021726   \n",
       "12      -0.060583   0.017035  1.867668e-03       -0.410200  0.021717   \n",
       "13       0.003213  -0.000903  5.271719e-06        0.021793  0.021717   \n",
       "14      -0.044606   0.012514  1.014086e-03       -0.302322  0.021709   \n",
       "15      -0.053675   0.015059  1.467103e-03       -0.363632  0.021709   \n",
       "16      -0.064302   0.017999  2.103071e-03       -0.435457  0.021700   \n",
       "17       0.025655  -0.007263  3.358765e-04        0.173851  0.021743   \n",
       "18      -0.047366   0.013198  1.143195e-03       -0.321181  0.021684   \n",
       "19       0.000066   0.002564  3.709159e-06        0.005262  0.211303   \n",
       "20      -0.078982   0.021958  3.166576e-03       -0.534650  0.021675   \n",
       "21      -0.006824   0.161831  1.420986e-02        0.238382  0.333387   \n",
       "22       0.000296  -0.000083  4.469714e-08        0.002006  0.021726   \n",
       "23      -0.094881   0.026499  4.557708e-03       -0.641176  0.021692   \n",
       "24      -0.043755   0.012248  9.758620e-04       -0.296628  0.021700   \n",
       "25      -0.086054   0.024252  3.754798e-03       -0.581505  0.021726   \n",
       "26      -0.014046   0.003959  1.007324e-04       -0.095246  0.021726   \n",
       "27      -0.078273   0.021810  3.110305e-03       -0.529775  0.021684   \n",
       "28      -0.024977   0.007055  3.183843e-04       -0.169297  0.021734   \n",
       "29      -0.003419   0.000957  5.969039e-06       -0.023199  0.021700   \n",
       "30      -0.044589   0.012481  1.013309e-03       -0.302266  0.021700   \n",
       "31      -0.082409   0.023068  3.445518e-03       -0.557372  0.021700   \n",
       "32      -0.082934   0.023215  3.489220e-03       -0.560896  0.021700   \n",
       "33      -0.044623   0.012548  1.014865e-03       -0.302378  0.021717   \n",
       "34      -0.040906   0.011554  8.530791e-04       -0.277120  0.021734   \n",
       "35      -0.044571   0.012448  1.012533e-03       -0.302210  0.021692   \n",
       "36      -0.023028   0.006417  2.706593e-04       -0.156279  0.021684   \n",
       "37      -0.053115   0.014834  1.436772e-03       -0.359996  0.021692   \n",
       "38       0.001951  -0.000551  1.943509e-06        0.013227  0.021734   \n",
       "39      -0.089992   0.025019  4.103717e-03       -0.608644  0.021675   \n",
       "40      -0.047508   0.013480  1.150043e-03       -0.321630  0.021751   \n",
       "41      -0.044554   0.012415  1.011759e-03       -0.302154  0.021684   \n",
       "42       0.002617  -0.117863  7.618116e-03       -0.194335  0.287464   \n",
       "43       0.729080  -0.204084  1.797754e-01        4.026089  0.021700   \n",
       "44      -0.044623   0.012548  1.014865e-03       -0.302378  0.021717   \n",
       "45      -0.029201   0.008193  4.350812e-04       -0.198024  0.021709   \n",
       "46      -0.080201   0.022654  3.264432e-03       -0.542097  0.021734   \n",
       "47      -0.055116   0.015428  1.546714e-03       -0.373442  0.021700   \n",
       "48      -0.044554   0.012415  1.011759e-03       -0.302154  0.021684   \n",
       "49      -0.044658   0.012614  1.016427e-03       -0.302490  0.021734   \n",
       "\n",
       "    dffits_internal  student_resid    dffits  \n",
       "0         -0.033008      -0.219552 -0.032680  \n",
       "1         -0.070192      -0.467069 -0.069618  \n",
       "2          0.487876       3.680499  0.547939  \n",
       "3          0.482752       3.631834  0.540588  \n",
       "4         -0.094375      -0.629543 -0.093779  \n",
       "5         -0.044966      -0.299219 -0.044538  \n",
       "6         -0.035300      -0.077379 -0.034933  \n",
       "7         -0.004331      -0.028752 -0.004286  \n",
       "8         -0.013343      -0.088622 -0.013204  \n",
       "9         -0.049956      -0.331900 -0.049491  \n",
       "10         0.363133       2.578718  0.383910  \n",
       "11        -0.045070      -0.299553 -0.044640  \n",
       "12        -0.061117      -0.406618 -0.060584  \n",
       "13         0.003247       0.021565  0.003213  \n",
       "14        -0.045035      -0.299441 -0.044606  \n",
       "15        -0.054168      -0.360321 -0.053675  \n",
       "16        -0.064855      -0.431751 -0.064303  \n",
       "17         0.025918       0.172084  0.025655  \n",
       "18        -0.047816      -0.318160 -0.047366  \n",
       "19         0.002724       0.005207  0.002695  \n",
       "20        -0.079581      -0.530634 -0.078983  \n",
       "21         0.168582       0.236025  0.166915  \n",
       "22         0.000299       0.001985  0.000296  \n",
       "23        -0.095475      -0.637196 -0.094882  \n",
       "24        -0.044178      -0.293791 -0.043756  \n",
       "25        -0.086658      -0.577453 -0.086054  \n",
       "26        -0.014194      -0.094257 -0.014047  \n",
       "27        -0.078871      -0.525766 -0.078274  \n",
       "28        -0.025234      -0.167574 -0.024977  \n",
       "29        -0.003455      -0.022956 -0.003419  \n",
       "30        -0.045018      -0.299386 -0.044589  \n",
       "31        -0.083012      -0.553329 -0.082410  \n",
       "32        -0.083537      -0.556851 -0.082935  \n",
       "33        -0.045053      -0.299497 -0.044623  \n",
       "34        -0.041306      -0.274438 -0.040906  \n",
       "35        -0.045001      -0.299330 -0.044572  \n",
       "36        -0.023266      -0.154682 -0.023028  \n",
       "37        -0.053605      -0.356708 -0.053116  \n",
       "38         0.001972       0.013089  0.001951  \n",
       "39        -0.090595      -0.604609 -0.089994  \n",
       "40        -0.047959      -0.318606 -0.047508  \n",
       "41        -0.044984      -0.299275 -0.044555  \n",
       "42        -0.123435      -0.192376 -0.122191  \n",
       "43         0.599626       4.895341  0.729088  \n",
       "44        -0.045053      -0.299497 -0.044623  \n",
       "45        -0.029499      -0.196030 -0.029202  \n",
       "46        -0.080801      -0.538070 -0.080201  \n",
       "47        -0.055619      -0.370070 -0.055116  \n",
       "48        -0.044984      -0.299275 -0.044555  \n",
       "49        -0.045087      -0.299608 -0.044658  "
      ]
     },
     "execution_count": 51,
     "metadata": {},
     "output_type": "execute_result"
    }
   ],
   "source": [
    "sm_fr"
   ]
  },
  {
   "cell_type": "code",
   "execution_count": 52,
   "metadata": {},
   "outputs": [],
   "source": [
    "from scipy.stats import pearsonr\n",
    "data1, data2 = salesdata['SALES'],salesdata['COUNT']\n",
    "corr, p = pearsonr(data1, data2)"
   ]
  },
  {
   "cell_type": "code",
   "execution_count": 53,
   "metadata": {},
   "outputs": [
    {
     "data": {
      "text/plain": [
       "(-0.07662959082792542, 0.5968562238254401)"
      ]
     },
     "execution_count": 53,
     "metadata": {},
     "output_type": "execute_result"
    }
   ],
   "source": [
    "corr,p"
   ]
  },
  {
   "cell_type": "markdown",
   "metadata": {},
   "source": [
    "The value of corelation is insignificantly low,so we can go ahead and remove the outliers to check whether these outliers are influencing the relationship between these two variables."
   ]
  },
  {
   "cell_type": "code",
   "execution_count": 54,
   "metadata": {},
   "outputs": [],
   "source": [
    "salesdata_without_outliers=salesdata[temp]"
   ]
  },
  {
   "cell_type": "code",
   "execution_count": 55,
   "metadata": {},
   "outputs": [
    {
     "data": {
      "text/plain": [
       "42"
      ]
     },
     "execution_count": 55,
     "metadata": {},
     "output_type": "execute_result"
    }
   ],
   "source": [
    "len(salesdata_without_outliers)"
   ]
  },
  {
   "cell_type": "code",
   "execution_count": 56,
   "metadata": {},
   "outputs": [],
   "source": [
    "data1, data2 = salesdata_without_outliers['SALES'],salesdata_without_outliers['COUNT']\n",
    "corr2, p2 = pearsonr(data1, data2)"
   ]
  },
  {
   "cell_type": "code",
   "execution_count": 57,
   "metadata": {},
   "outputs": [
    {
     "data": {
      "text/plain": [
       "(-0.33140039763045104, 0.03204093032871662)"
      ]
     },
     "execution_count": 57,
     "metadata": {},
     "output_type": "execute_result"
    }
   ],
   "source": [
    "corr2,p2"
   ]
  },
  {
   "cell_type": "markdown",
   "metadata": {},
   "source": [
    "These findings validated our suspision on the outliers identified above .The removal of identified outliers yielded the significant concealed association between the two variables.Thus, the presence of the outliers are singnificantly distorting the very relationship between the two variables and thus have to be treated appropriatly.We propose the following treatments of the identified outlier :- <br>\n",
    "> Given the less number of observations associated with the outliers we can remove such observations with affordable loss of information contained in the dataset.\n"
   ]
  },
  {
   "cell_type": "code",
   "execution_count": 58,
   "metadata": {},
   "outputs": [],
   "source": [
    "salesdata=salesdata_without_outliers"
   ]
  },
  {
   "cell_type": "code",
   "execution_count": 59,
   "metadata": {},
   "outputs": [
    {
     "data": {
      "text/plain": [
       "42"
      ]
     },
     "execution_count": 59,
     "metadata": {},
     "output_type": "execute_result"
    }
   ],
   "source": [
    "len(salesdata)"
   ]
  },
  {
   "cell_type": "markdown",
   "metadata": {},
   "source": [
    "#### Tally total sales and count at a store and date level."
   ]
  },
  {
   "cell_type": "code",
   "execution_count": 60,
   "metadata": {},
   "outputs": [
    {
     "data": {
      "text/html": [
       "<div>\n",
       "<style scoped>\n",
       "    .dataframe tbody tr th:only-of-type {\n",
       "        vertical-align: middle;\n",
       "    }\n",
       "\n",
       "    .dataframe tbody tr th {\n",
       "        vertical-align: top;\n",
       "    }\n",
       "\n",
       "    .dataframe thead th {\n",
       "        text-align: right;\n",
       "    }\n",
       "</style>\n",
       "<table border=\"1\" class=\"dataframe\">\n",
       "  <thead>\n",
       "    <tr style=\"text-align: right;\">\n",
       "      <th></th>\n",
       "      <th></th>\n",
       "      <th>SALES</th>\n",
       "      <th>COUNT</th>\n",
       "    </tr>\n",
       "    <tr>\n",
       "      <th>STORES</th>\n",
       "      <th>DATES</th>\n",
       "      <th></th>\n",
       "      <th></th>\n",
       "    </tr>\n",
       "  </thead>\n",
       "  <tbody>\n",
       "    <tr>\n",
       "      <th rowspan=\"3\" valign=\"top\">STORE110</th>\n",
       "      <th>2018-01-01</th>\n",
       "      <td>624.0</td>\n",
       "      <td>10.0</td>\n",
       "    </tr>\n",
       "    <tr>\n",
       "      <th>2018-01-03</th>\n",
       "      <td>271.0</td>\n",
       "      <td>3.0</td>\n",
       "    </tr>\n",
       "    <tr>\n",
       "      <th>2018-01-07</th>\n",
       "      <td>40.0</td>\n",
       "      <td>6.0</td>\n",
       "    </tr>\n",
       "    <tr>\n",
       "      <th rowspan=\"4\" valign=\"top\">STORE113</th>\n",
       "      <th>2018-01-03</th>\n",
       "      <td>812.0</td>\n",
       "      <td>5.0</td>\n",
       "    </tr>\n",
       "    <tr>\n",
       "      <th>2018-01-04</th>\n",
       "      <td>464.0</td>\n",
       "      <td>1.0</td>\n",
       "    </tr>\n",
       "    <tr>\n",
       "      <th>2018-01-05</th>\n",
       "      <td>898.0</td>\n",
       "      <td>3.0</td>\n",
       "    </tr>\n",
       "    <tr>\n",
       "      <th>2018-01-07</th>\n",
       "      <td>510.0</td>\n",
       "      <td>10.0</td>\n",
       "    </tr>\n",
       "    <tr>\n",
       "      <th rowspan=\"4\" valign=\"top\">STORE114</th>\n",
       "      <th>2018-01-01</th>\n",
       "      <td>357.0</td>\n",
       "      <td>5.0</td>\n",
       "    </tr>\n",
       "    <tr>\n",
       "      <th>2018-01-04</th>\n",
       "      <td>970.0</td>\n",
       "      <td>5.0</td>\n",
       "    </tr>\n",
       "    <tr>\n",
       "      <th>2018-01-05</th>\n",
       "      <td>510.0</td>\n",
       "      <td>6.0</td>\n",
       "    </tr>\n",
       "    <tr>\n",
       "      <th>2018-01-06</th>\n",
       "      <td>510.0</td>\n",
       "      <td>4.0</td>\n",
       "    </tr>\n",
       "    <tr>\n",
       "      <th rowspan=\"3\" valign=\"top\">STORE115</th>\n",
       "      <th>2018-01-02</th>\n",
       "      <td>804.0</td>\n",
       "      <td>16.0</td>\n",
       "    </tr>\n",
       "    <tr>\n",
       "      <th>2018-01-05</th>\n",
       "      <td>423.0</td>\n",
       "      <td>6.0</td>\n",
       "    </tr>\n",
       "    <tr>\n",
       "      <th>2018-01-07</th>\n",
       "      <td>1186.0</td>\n",
       "      <td>2.0</td>\n",
       "    </tr>\n",
       "    <tr>\n",
       "      <th rowspan=\"4\" valign=\"top\">STORE127</th>\n",
       "      <th>2018-01-01</th>\n",
       "      <td>29.0</td>\n",
       "      <td>8.0</td>\n",
       "    </tr>\n",
       "    <tr>\n",
       "      <th>2018-01-04</th>\n",
       "      <td>180.0</td>\n",
       "      <td>10.0</td>\n",
       "    </tr>\n",
       "    <tr>\n",
       "      <th>2018-01-06</th>\n",
       "      <td>518.0</td>\n",
       "      <td>7.0</td>\n",
       "    </tr>\n",
       "    <tr>\n",
       "      <th>2018-01-07</th>\n",
       "      <td>942.0</td>\n",
       "      <td>4.0</td>\n",
       "    </tr>\n",
       "    <tr>\n",
       "      <th rowspan=\"3\" valign=\"top\">STORE133</th>\n",
       "      <th>2018-01-02</th>\n",
       "      <td>699.0</td>\n",
       "      <td>3.0</td>\n",
       "    </tr>\n",
       "    <tr>\n",
       "      <th>2018-01-05</th>\n",
       "      <td>1020.0</td>\n",
       "      <td>11.0</td>\n",
       "    </tr>\n",
       "    <tr>\n",
       "      <th>2018-01-06</th>\n",
       "      <td>991.0</td>\n",
       "      <td>13.0</td>\n",
       "    </tr>\n",
       "    <tr>\n",
       "      <th rowspan=\"3\" valign=\"top\">STORE136</th>\n",
       "      <th>2018-01-01</th>\n",
       "      <td>148.0</td>\n",
       "      <td>7.0</td>\n",
       "    </tr>\n",
       "    <tr>\n",
       "      <th>2018-01-03</th>\n",
       "      <td>1199.0</td>\n",
       "      <td>17.0</td>\n",
       "    </tr>\n",
       "    <tr>\n",
       "      <th>2018-01-05</th>\n",
       "      <td>510.0</td>\n",
       "      <td>5.0</td>\n",
       "    </tr>\n",
       "    <tr>\n",
       "      <th rowspan=\"4\" valign=\"top\">STORE143</th>\n",
       "      <th>2018-01-01</th>\n",
       "      <td>75.0</td>\n",
       "      <td>10.0</td>\n",
       "    </tr>\n",
       "    <tr>\n",
       "      <th>2018-01-02</th>\n",
       "      <td>1468.0</td>\n",
       "      <td>11.0</td>\n",
       "    </tr>\n",
       "    <tr>\n",
       "      <th>2018-01-05</th>\n",
       "      <td>428.0</td>\n",
       "      <td>8.0</td>\n",
       "    </tr>\n",
       "    <tr>\n",
       "      <th>2018-01-07</th>\n",
       "      <td>717.0</td>\n",
       "      <td>9.0</td>\n",
       "    </tr>\n",
       "    <tr>\n",
       "      <th rowspan=\"3\" valign=\"top\">STORE149</th>\n",
       "      <th>2018-01-01</th>\n",
       "      <td>510.0</td>\n",
       "      <td>5.0</td>\n",
       "    </tr>\n",
       "    <tr>\n",
       "      <th>2018-01-03</th>\n",
       "      <td>510.0</td>\n",
       "      <td>9.0</td>\n",
       "    </tr>\n",
       "    <tr>\n",
       "      <th>2018-01-06</th>\n",
       "      <td>483.0</td>\n",
       "      <td>1.0</td>\n",
       "    </tr>\n",
       "    <tr>\n",
       "      <th rowspan=\"4\" valign=\"top\">STORE196</th>\n",
       "      <th>2018-01-01</th>\n",
       "      <td>409.0</td>\n",
       "      <td>7.0</td>\n",
       "    </tr>\n",
       "    <tr>\n",
       "      <th>2018-01-02</th>\n",
       "      <td>658.0</td>\n",
       "      <td>6.0</td>\n",
       "    </tr>\n",
       "    <tr>\n",
       "      <th>2018-01-06</th>\n",
       "      <td>1020.0</td>\n",
       "      <td>12.0</td>\n",
       "    </tr>\n",
       "    <tr>\n",
       "      <th>2018-01-07</th>\n",
       "      <td>170.0</td>\n",
       "      <td>3.0</td>\n",
       "    </tr>\n",
       "  </tbody>\n",
       "</table>\n",
       "</div>"
      ],
      "text/plain": [
       "                      SALES  COUNT\n",
       "STORES   DATES                    \n",
       "STORE110 2018-01-01   624.0   10.0\n",
       "         2018-01-03   271.0    3.0\n",
       "         2018-01-07    40.0    6.0\n",
       "STORE113 2018-01-03   812.0    5.0\n",
       "         2018-01-04   464.0    1.0\n",
       "         2018-01-05   898.0    3.0\n",
       "         2018-01-07   510.0   10.0\n",
       "STORE114 2018-01-01   357.0    5.0\n",
       "         2018-01-04   970.0    5.0\n",
       "         2018-01-05   510.0    6.0\n",
       "         2018-01-06   510.0    4.0\n",
       "STORE115 2018-01-02   804.0   16.0\n",
       "         2018-01-05   423.0    6.0\n",
       "         2018-01-07  1186.0    2.0\n",
       "STORE127 2018-01-01    29.0    8.0\n",
       "         2018-01-04   180.0   10.0\n",
       "         2018-01-06   518.0    7.0\n",
       "         2018-01-07   942.0    4.0\n",
       "STORE133 2018-01-02   699.0    3.0\n",
       "         2018-01-05  1020.0   11.0\n",
       "         2018-01-06   991.0   13.0\n",
       "STORE136 2018-01-01   148.0    7.0\n",
       "         2018-01-03  1199.0   17.0\n",
       "         2018-01-05   510.0    5.0\n",
       "STORE143 2018-01-01    75.0   10.0\n",
       "         2018-01-02  1468.0   11.0\n",
       "         2018-01-05   428.0    8.0\n",
       "         2018-01-07   717.0    9.0\n",
       "STORE149 2018-01-01   510.0    5.0\n",
       "         2018-01-03   510.0    9.0\n",
       "         2018-01-06   483.0    1.0\n",
       "STORE196 2018-01-01   409.0    7.0\n",
       "         2018-01-02   658.0    6.0\n",
       "         2018-01-06  1020.0   12.0\n",
       "         2018-01-07   170.0    3.0"
      ]
     },
     "execution_count": 60,
     "metadata": {},
     "output_type": "execute_result"
    }
   ],
   "source": [
    "salesdata.groupby(by=['STORES','DATES']).sum()"
   ]
  },
  {
   "cell_type": "markdown",
   "metadata": {},
   "source": [
    "#### Dates for each store with maximum sales"
   ]
  },
  {
   "cell_type": "code",
   "execution_count": 61,
   "metadata": {},
   "outputs": [
    {
     "data": {
      "text/html": [
       "<div>\n",
       "<style scoped>\n",
       "    .dataframe tbody tr th:only-of-type {\n",
       "        vertical-align: middle;\n",
       "    }\n",
       "\n",
       "    .dataframe tbody tr th {\n",
       "        vertical-align: top;\n",
       "    }\n",
       "\n",
       "    .dataframe thead th {\n",
       "        text-align: right;\n",
       "    }\n",
       "</style>\n",
       "<table border=\"1\" class=\"dataframe\">\n",
       "  <thead>\n",
       "    <tr style=\"text-align: right;\">\n",
       "      <th></th>\n",
       "      <th>DATES</th>\n",
       "      <th>SALES</th>\n",
       "      <th>COUNT</th>\n",
       "    </tr>\n",
       "    <tr>\n",
       "      <th>STORES</th>\n",
       "      <th></th>\n",
       "      <th></th>\n",
       "      <th></th>\n",
       "    </tr>\n",
       "  </thead>\n",
       "  <tbody>\n",
       "    <tr>\n",
       "      <th>STORE110</th>\n",
       "      <td>2018-01-07</td>\n",
       "      <td>624.0</td>\n",
       "      <td>10.0</td>\n",
       "    </tr>\n",
       "    <tr>\n",
       "      <th>STORE113</th>\n",
       "      <td>2018-01-07</td>\n",
       "      <td>898.0</td>\n",
       "      <td>10.0</td>\n",
       "    </tr>\n",
       "    <tr>\n",
       "      <th>STORE114</th>\n",
       "      <td>2018-01-06</td>\n",
       "      <td>970.0</td>\n",
       "      <td>6.0</td>\n",
       "    </tr>\n",
       "    <tr>\n",
       "      <th>STORE115</th>\n",
       "      <td>2018-01-07</td>\n",
       "      <td>1186.0</td>\n",
       "      <td>9.0</td>\n",
       "    </tr>\n",
       "    <tr>\n",
       "      <th>STORE127</th>\n",
       "      <td>2018-01-07</td>\n",
       "      <td>942.0</td>\n",
       "      <td>10.0</td>\n",
       "    </tr>\n",
       "    <tr>\n",
       "      <th>STORE133</th>\n",
       "      <td>2018-01-06</td>\n",
       "      <td>906.0</td>\n",
       "      <td>9.0</td>\n",
       "    </tr>\n",
       "    <tr>\n",
       "      <th>STORE136</th>\n",
       "      <td>2018-01-05</td>\n",
       "      <td>546.0</td>\n",
       "      <td>7.0</td>\n",
       "    </tr>\n",
       "    <tr>\n",
       "      <th>STORE143</th>\n",
       "      <td>2018-01-07</td>\n",
       "      <td>958.0</td>\n",
       "      <td>10.0</td>\n",
       "    </tr>\n",
       "    <tr>\n",
       "      <th>STORE149</th>\n",
       "      <td>2018-01-06</td>\n",
       "      <td>510.0</td>\n",
       "      <td>9.0</td>\n",
       "    </tr>\n",
       "    <tr>\n",
       "      <th>STORE196</th>\n",
       "      <td>2018-01-07</td>\n",
       "      <td>658.0</td>\n",
       "      <td>9.0</td>\n",
       "    </tr>\n",
       "  </tbody>\n",
       "</table>\n",
       "</div>"
      ],
      "text/plain": [
       "              DATES   SALES  COUNT\n",
       "STORES                            \n",
       "STORE110 2018-01-07   624.0   10.0\n",
       "STORE113 2018-01-07   898.0   10.0\n",
       "STORE114 2018-01-06   970.0    6.0\n",
       "STORE115 2018-01-07  1186.0    9.0\n",
       "STORE127 2018-01-07   942.0   10.0\n",
       "STORE133 2018-01-06   906.0    9.0\n",
       "STORE136 2018-01-05   546.0    7.0\n",
       "STORE143 2018-01-07   958.0   10.0\n",
       "STORE149 2018-01-06   510.0    9.0\n",
       "STORE196 2018-01-07   658.0    9.0"
      ]
     },
     "execution_count": 61,
     "metadata": {},
     "output_type": "execute_result"
    }
   ],
   "source": [
    "salesdata.groupby(by=['STORES']).max()"
   ]
  },
  {
   "cell_type": "markdown",
   "metadata": {},
   "source": [
    "Since we removed the outliers,these can differ from original dataset"
   ]
  },
  {
   "cell_type": "markdown",
   "metadata": {},
   "source": [
    "#### Dates for each store with minimum sales"
   ]
  },
  {
   "cell_type": "code",
   "execution_count": 62,
   "metadata": {
    "scrolled": true
   },
   "outputs": [
    {
     "data": {
      "text/html": [
       "<div>\n",
       "<style scoped>\n",
       "    .dataframe tbody tr th:only-of-type {\n",
       "        vertical-align: middle;\n",
       "    }\n",
       "\n",
       "    .dataframe tbody tr th {\n",
       "        vertical-align: top;\n",
       "    }\n",
       "\n",
       "    .dataframe thead th {\n",
       "        text-align: right;\n",
       "    }\n",
       "</style>\n",
       "<table border=\"1\" class=\"dataframe\">\n",
       "  <thead>\n",
       "    <tr style=\"text-align: right;\">\n",
       "      <th></th>\n",
       "      <th>DATES</th>\n",
       "      <th>SALES</th>\n",
       "      <th>COUNT</th>\n",
       "    </tr>\n",
       "    <tr>\n",
       "      <th>STORES</th>\n",
       "      <th></th>\n",
       "      <th></th>\n",
       "      <th></th>\n",
       "    </tr>\n",
       "  </thead>\n",
       "  <tbody>\n",
       "    <tr>\n",
       "      <th>STORE110</th>\n",
       "      <td>2018-01-01</td>\n",
       "      <td>40.0</td>\n",
       "      <td>3.0</td>\n",
       "    </tr>\n",
       "    <tr>\n",
       "      <th>STORE113</th>\n",
       "      <td>2018-01-03</td>\n",
       "      <td>464.0</td>\n",
       "      <td>1.0</td>\n",
       "    </tr>\n",
       "    <tr>\n",
       "      <th>STORE114</th>\n",
       "      <td>2018-01-01</td>\n",
       "      <td>357.0</td>\n",
       "      <td>4.0</td>\n",
       "    </tr>\n",
       "    <tr>\n",
       "      <th>STORE115</th>\n",
       "      <td>2018-01-02</td>\n",
       "      <td>321.0</td>\n",
       "      <td>2.0</td>\n",
       "    </tr>\n",
       "    <tr>\n",
       "      <th>STORE127</th>\n",
       "      <td>2018-01-01</td>\n",
       "      <td>29.0</td>\n",
       "      <td>4.0</td>\n",
       "    </tr>\n",
       "    <tr>\n",
       "      <th>STORE133</th>\n",
       "      <td>2018-01-02</td>\n",
       "      <td>114.0</td>\n",
       "      <td>3.0</td>\n",
       "    </tr>\n",
       "    <tr>\n",
       "      <th>STORE136</th>\n",
       "      <td>2018-01-01</td>\n",
       "      <td>143.0</td>\n",
       "      <td>3.0</td>\n",
       "    </tr>\n",
       "    <tr>\n",
       "      <th>STORE143</th>\n",
       "      <td>2018-01-01</td>\n",
       "      <td>75.0</td>\n",
       "      <td>3.0</td>\n",
       "    </tr>\n",
       "    <tr>\n",
       "      <th>STORE149</th>\n",
       "      <td>2018-01-01</td>\n",
       "      <td>483.0</td>\n",
       "      <td>1.0</td>\n",
       "    </tr>\n",
       "    <tr>\n",
       "      <th>STORE196</th>\n",
       "      <td>2018-01-01</td>\n",
       "      <td>170.0</td>\n",
       "      <td>3.0</td>\n",
       "    </tr>\n",
       "  </tbody>\n",
       "</table>\n",
       "</div>"
      ],
      "text/plain": [
       "              DATES  SALES  COUNT\n",
       "STORES                           \n",
       "STORE110 2018-01-01   40.0    3.0\n",
       "STORE113 2018-01-03  464.0    1.0\n",
       "STORE114 2018-01-01  357.0    4.0\n",
       "STORE115 2018-01-02  321.0    2.0\n",
       "STORE127 2018-01-01   29.0    4.0\n",
       "STORE133 2018-01-02  114.0    3.0\n",
       "STORE136 2018-01-01  143.0    3.0\n",
       "STORE143 2018-01-01   75.0    3.0\n",
       "STORE149 2018-01-01  483.0    1.0\n",
       "STORE196 2018-01-01  170.0    3.0"
      ]
     },
     "execution_count": 62,
     "metadata": {},
     "output_type": "execute_result"
    }
   ],
   "source": [
    "salesdata.groupby(by=['STORES']).min()"
   ]
  },
  {
   "cell_type": "markdown",
   "metadata": {},
   "source": [
    "#### There can be multiple same date variable present for each store. Make sure after processing each date appear only once for each store \n"
   ]
  },
  {
   "cell_type": "code",
   "execution_count": 63,
   "metadata": {},
   "outputs": [
    {
     "data": {
      "text/plain": [
       "42"
      ]
     },
     "execution_count": 63,
     "metadata": {},
     "output_type": "execute_result"
    }
   ],
   "source": [
    "#before grouping dataset size on date level\n",
    "len(salesdata)"
   ]
  },
  {
   "cell_type": "code",
   "execution_count": 64,
   "metadata": {},
   "outputs": [],
   "source": [
    "salesdata=salesdata.groupby(by=['STORES','DATES']).sum()"
   ]
  },
  {
   "cell_type": "code",
   "execution_count": 65,
   "metadata": {},
   "outputs": [],
   "source": [
    "#reset index \n",
    "salesdata.reset_index(inplace=True)"
   ]
  },
  {
   "cell_type": "code",
   "execution_count": 66,
   "metadata": {},
   "outputs": [
    {
     "data": {
      "text/plain": [
       "35"
      ]
     },
     "execution_count": 66,
     "metadata": {},
     "output_type": "execute_result"
    }
   ],
   "source": [
    "#after grouping dataset size on date level\n",
    "len(salesdata)"
   ]
  },
  {
   "cell_type": "markdown",
   "metadata": {},
   "source": [
    "So, from here we observe that our dataset contained few date values which are repeated for a paticular store"
   ]
  },
  {
   "cell_type": "code",
   "execution_count": 67,
   "metadata": {},
   "outputs": [
    {
     "data": {
      "text/html": [
       "<div>\n",
       "<style scoped>\n",
       "    .dataframe tbody tr th:only-of-type {\n",
       "        vertical-align: middle;\n",
       "    }\n",
       "\n",
       "    .dataframe tbody tr th {\n",
       "        vertical-align: top;\n",
       "    }\n",
       "\n",
       "    .dataframe thead th {\n",
       "        text-align: right;\n",
       "    }\n",
       "</style>\n",
       "<table border=\"1\" class=\"dataframe\">\n",
       "  <thead>\n",
       "    <tr style=\"text-align: right;\">\n",
       "      <th></th>\n",
       "      <th>STORES</th>\n",
       "      <th>DATES</th>\n",
       "      <th>SALES</th>\n",
       "      <th>COUNT</th>\n",
       "    </tr>\n",
       "  </thead>\n",
       "  <tbody>\n",
       "    <tr>\n",
       "      <th>0</th>\n",
       "      <td>STORE110</td>\n",
       "      <td>2018-01-01</td>\n",
       "      <td>624.0</td>\n",
       "      <td>10.0</td>\n",
       "    </tr>\n",
       "    <tr>\n",
       "      <th>1</th>\n",
       "      <td>STORE110</td>\n",
       "      <td>2018-01-03</td>\n",
       "      <td>271.0</td>\n",
       "      <td>3.0</td>\n",
       "    </tr>\n",
       "    <tr>\n",
       "      <th>2</th>\n",
       "      <td>STORE110</td>\n",
       "      <td>2018-01-07</td>\n",
       "      <td>40.0</td>\n",
       "      <td>6.0</td>\n",
       "    </tr>\n",
       "    <tr>\n",
       "      <th>3</th>\n",
       "      <td>STORE113</td>\n",
       "      <td>2018-01-03</td>\n",
       "      <td>812.0</td>\n",
       "      <td>5.0</td>\n",
       "    </tr>\n",
       "    <tr>\n",
       "      <th>4</th>\n",
       "      <td>STORE113</td>\n",
       "      <td>2018-01-04</td>\n",
       "      <td>464.0</td>\n",
       "      <td>1.0</td>\n",
       "    </tr>\n",
       "  </tbody>\n",
       "</table>\n",
       "</div>"
      ],
      "text/plain": [
       "     STORES      DATES  SALES  COUNT\n",
       "0  STORE110 2018-01-01  624.0   10.0\n",
       "1  STORE110 2018-01-03  271.0    3.0\n",
       "2  STORE110 2018-01-07   40.0    6.0\n",
       "3  STORE113 2018-01-03  812.0    5.0\n",
       "4  STORE113 2018-01-04  464.0    1.0"
      ]
     },
     "execution_count": 67,
     "metadata": {},
     "output_type": "execute_result"
    }
   ],
   "source": [
    "salesdata.head()"
   ]
  },
  {
   "cell_type": "markdown",
   "metadata": {},
   "source": [
    "#### Date colum ranges between 2018/01/01 to 2018/01/07. Make sure that all these dates are present for each store. Do the required padding/filling for other columns while performing this operation. Sales and count can be aggregated by addition."
   ]
  },
  {
   "cell_type": "code",
   "execution_count": 68,
   "metadata": {},
   "outputs": [],
   "source": [
    "a = pd.DataFrame(salesdata['STORES'].unique())\n",
    "b = pd.DataFrame(salesdata['DATES'].dt.date.unique().tolist() * a.shape[0])"
   ]
  },
  {
   "cell_type": "code",
   "execution_count": 69,
   "metadata": {},
   "outputs": [],
   "source": [
    "b.index = list(a.index) * 7"
   ]
  },
  {
   "cell_type": "code",
   "execution_count": 70,
   "metadata": {},
   "outputs": [],
   "source": [
    "df_date=pd.merge(a,b,left_index=True, right_index=True)"
   ]
  },
  {
   "cell_type": "code",
   "execution_count": 71,
   "metadata": {},
   "outputs": [],
   "source": [
    "df_date.columns=['STORES','DATES']"
   ]
  },
  {
   "cell_type": "code",
   "execution_count": 72,
   "metadata": {},
   "outputs": [
    {
     "data": {
      "text/plain": [
       "70"
      ]
     },
     "execution_count": 72,
     "metadata": {},
     "output_type": "execute_result"
    }
   ],
   "source": [
    "len(df_date)"
   ]
  },
  {
   "cell_type": "markdown",
   "metadata": {},
   "source": [
    "Now we have \"df_date\" dataframe which contains all the combinations of given stores and dates."
   ]
  },
  {
   "cell_type": "code",
   "execution_count": 73,
   "metadata": {},
   "outputs": [
    {
     "data": {
      "text/plain": [
       "Timestamp('2018-01-01 00:00:00')"
      ]
     },
     "execution_count": 73,
     "metadata": {},
     "output_type": "execute_result"
    }
   ],
   "source": [
    "salesdata['DATES'][0]"
   ]
  },
  {
   "cell_type": "code",
   "execution_count": 74,
   "metadata": {},
   "outputs": [],
   "source": [
    "salesdata['DATES']=salesdata['DATES'].dt.date"
   ]
  },
  {
   "cell_type": "code",
   "execution_count": 75,
   "metadata": {},
   "outputs": [
    {
     "data": {
      "text/plain": [
       "datetime.date(2018, 1, 1)"
      ]
     },
     "execution_count": 75,
     "metadata": {},
     "output_type": "execute_result"
    }
   ],
   "source": [
    "salesdata['DATES'][0]"
   ]
  },
  {
   "cell_type": "code",
   "execution_count": null,
   "metadata": {},
   "outputs": [],
   "source": [
    "salesdata_final=pd.merge(df_date,salesdata,how='left',on=['STORES','DATES'])"
   ]
  },
  {
   "cell_type": "code",
   "execution_count": null,
   "metadata": {},
   "outputs": [],
   "source": [
    "salesdata_final.sort_values(by=['STORES','DATES'],inplace=True)"
   ]
  },
  {
   "cell_type": "code",
   "execution_count": null,
   "metadata": {},
   "outputs": [],
   "source": [
    "salesdata_final.head(10)"
   ]
  },
  {
   "cell_type": "markdown",
   "metadata": {},
   "source": [
    " Now we can replace NAN with 0"
   ]
  },
  {
   "cell_type": "code",
   "execution_count": null,
   "metadata": {},
   "outputs": [],
   "source": [
    "salesdata_final.fillna(0,axis=1,inplace=True)"
   ]
  },
  {
   "cell_type": "markdown",
   "metadata": {},
   "source": [
    "#### Change date format to 'dd-mm-yyyy'."
   ]
  },
  {
   "cell_type": "code",
   "execution_count": null,
   "metadata": {},
   "outputs": [],
   "source": [
    "salesdata_final['DATES'] = pd.to_datetime(salesdata_final['DATES'])"
   ]
  },
  {
   "cell_type": "code",
   "execution_count": null,
   "metadata": {},
   "outputs": [],
   "source": [
    "salesdata_final[\"DATES\"]=salesdata_final[\"DATES\"].dt.strftime('%d-%m-%Y')"
   ]
  },
  {
   "cell_type": "code",
   "execution_count": null,
   "metadata": {},
   "outputs": [],
   "source": [
    "salesdata_final.head()"
   ]
  },
  {
   "cell_type": "markdown",
   "metadata": {},
   "source": [
    "#### Create a new string column in the same dataframe named 'Day' and map days of week corresponding to each date in the datafreame."
   ]
  },
  {
   "cell_type": "code",
   "execution_count": null,
   "metadata": {},
   "outputs": [],
   "source": [
    "salesdata_final['DATES'] = pd.to_datetime(salesdata_final['DATES'])"
   ]
  },
  {
   "cell_type": "code",
   "execution_count": null,
   "metadata": {},
   "outputs": [],
   "source": [
    "salesdata_final['Day']=salesdata_final['DATES'].dt.day_name()"
   ]
  },
  {
   "cell_type": "code",
   "execution_count": null,
   "metadata": {},
   "outputs": [],
   "source": [
    "salesdata_final.head()"
   ]
  }
 ],
 "metadata": {
  "kernelspec": {
   "display_name": "Python 3",
   "language": "python",
   "name": "python3"
  },
  "language_info": {
   "codemirror_mode": {
    "name": "ipython",
    "version": 3
   },
   "file_extension": ".py",
   "mimetype": "text/x-python",
   "name": "python",
   "nbconvert_exporter": "python",
   "pygments_lexer": "ipython3",
   "version": "3.7.3"
  }
 },
 "nbformat": 4,
 "nbformat_minor": 2
}
